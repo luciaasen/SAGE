{
 "cells": [
  {
   "cell_type": "code",
   "execution_count": 17,
   "metadata": {
    "collapsed": false
   },
   "outputs": [],
   "source": [
    "alfb = \"ABCDEFGHIJKLMNOPQRSTUVWXYZ\"\n",
    "\n",
    "from string import *\n",
    "def limpiar2(texto,alfb):\n",
    "    '''Se queda solo con el codigo ascii de lo que esta en alfb'''\n",
    "    L1 = [ord2(item.capitalize()) for item in texto  if item.capitalize() in [x for x in alfb]]\n",
    "    '''Pasa el texto de lista ascii ---> a lista char, y con join lo pasa a string'''\n",
    "    C1 = join(map(chr2,L1),sep = \"\")\n",
    "    return C1\n",
    "\n",
    "Lalfb = [letra for letra in alfb]\n",
    "\n",
    "def ord2(letra):\n",
    "    return ZZ(Lalfb.index(letra)).digits(base = 2, padto = 5)\n",
    "\n",
    "def chr2(num):\n",
    "    n = ZZ(num, base = 2)\n",
    "    show(n)\n",
    "    return Lalfb[n]\n"
   ]
  },
  {
   "cell_type": "code",
   "execution_count": 21,
   "metadata": {
    "collapsed": false
   },
   "outputs": [
    {
     "data": {
      "text/plain": [
       "1"
      ]
     },
     "execution_count": 21,
     "metadata": {},
     "output_type": "execute_result"
    }
   ],
   "source": [
    "\n",
    "n = ZZ(00001, base = 2)\n",
    "n"
   ]
  },
  {
   "cell_type": "code",
   "execution_count": 6,
   "metadata": {
    "collapsed": true
   },
   "outputs": [],
   "source": [
    "ZZ?"
   ]
  },
  {
   "cell_type": "code",
   "execution_count": null,
   "metadata": {
    "collapsed": true
   },
   "outputs": [],
   "source": []
  }
 ],
 "metadata": {
  "kernelspec": {
   "display_name": "SageMath 7.5.1",
   "language": "",
   "name": "sagemath"
  },
  "language_info": {
   "codemirror_mode": {
    "name": "ipython",
    "version": 2
   },
   "file_extension": ".py",
   "mimetype": "text/x-python",
   "name": "python",
   "nbconvert_exporter": "python",
   "pygments_lexer": "ipython2",
   "version": "2.7.13"
  }
 },
 "nbformat": 4,
 "nbformat_minor": 0
}
