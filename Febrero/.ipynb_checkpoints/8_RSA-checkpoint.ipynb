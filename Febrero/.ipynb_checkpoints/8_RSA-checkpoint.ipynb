{
 "cells": [
  {
   "cell_type": "markdown",
   "metadata": {},
   "source": [
    "## Funciones y  búsqueda de claves"
   ]
  },
  {
   "cell_type": "code",
   "execution_count": 241,
   "metadata": {
    "collapsed": false
   },
   "outputs": [
    {
     "name": "stdout",
     "output_type": "stream",
     "text": [
      "[0, 1, 2, 3, 4, 5, 6, 7, 8, 9, 10, 11, 12, 13, 14, 15, 16, 17, 18, 19, 20, 21, 22, 23, 24, 25, 26, 27, 28, 29, 30, 31]\n",
      "['A', 'B', 'C', 'D', 'E', 'F', 'G', 'H', 'I', 'J', 'K', 'L', 'M', 'N', 'O', 'P', 'Q', 'R', 'S', 'T', 'U', 'V', 'W', 'X', 'Y', 'Z', ' ', '.', ',', ';', ':', '-']\n"
     ]
    },
    {
     "data": {
      "text/plain": [
       "32"
      ]
     },
     "execution_count": 241,
     "metadata": {},
     "output_type": "execute_result"
    }
   ],
   "source": [
    "alfb = \"ABCDEFGHIJKLMNOPQRSTUVWXYZ .,;:-\"\n",
    "L_alfb = list(alfb);\n",
    "def ord2(c):\n",
    "    return L_alfb.index(c)\n",
    "def chr2(n):\n",
    "    return L_alfb[n]\n",
    "print map(ord2,[x for x in alfb])\n",
    "print map(chr2,map(ord2,[x for x in alfb]))\n",
    "len(alfb)"
   ]
  },
  {
   "cell_type": "code",
   "execution_count": 374,
   "metadata": {
    "collapsed": false
   },
   "outputs": [
    {
     "name": "stdout",
     "output_type": "stream",
     "text": [
      "Comprobamos si se cumple:     M_n < N: True,    mcd(e, phi) = 1\n",
      "\n"
     ]
    }
   ],
   "source": [
    "def Mn(N):\n",
    "    sum = 0\n",
    "    for i in srange(0, N):\n",
    "        sum += 31 * 32^i\n",
    "    return sum\n",
    "\n",
    "def codificar(mensaje):\n",
    "    suma = 0;\n",
    "    L_m = list(mensaje)\n",
    "    \n",
    "    for i in srange(0, len(L_m)):\n",
    "        s = ord2(L_m[i]) * 32 ^ i\n",
    "        suma += s\n",
    "    return suma\n",
    "\n",
    "def encriptar(mensaje, N, e):\n",
    "    num = codificar(mensaje)\n",
    "    print(\"Tras codificar, comprobamos: mcd(codificado, N) = %d\"%gcd(num, N))\n",
    "    Zn = Integers(N)\n",
    "    num = Zn(num^e)\n",
    "    \n",
    "    return num\n",
    "    \n",
    "def decodificar(num, lng):\n",
    "    L = ((ZZ(num)).digits(base = 32))\n",
    "    m = \"\"\n",
    "    for item in L:\n",
    "        m += chr2(item)\n",
    "    while len(m) < lng:\n",
    "        m += chr2(0)\n",
    "        \n",
    "    return m\n",
    "\n",
    "def desencriptar(num, N, priv, lng):\n",
    "    Zn = Integers(N)\n",
    "    num2 = Zn(num ^ priv)\n",
    "    mensaje = decodificar(num2, lng)\n",
    "    return mensaje\n",
    "\n",
    "lng = 5\n",
    "mn = Mn(lng)\n",
    "mn2 = Mn(lng + 1)\n",
    "\n",
    "'''Buscamos clave publica y privada idonea'''\n",
    "p = 73849\n",
    "q = 1667\n",
    "N = p * q\n",
    "phi = (p-1)*(q-1)\n",
    "e = 11\n",
    "d = (xgcd(e, phi))[1]\n",
    "print(\"Comprobamos si se cumple:     M_n < N: %s,    mcd(e, phi) = %d\\n\"%(bool(mn < N),gcd(e, phi)))\n",
    "\n",
    "\n"
   ]
  },
  {
   "cell_type": "markdown",
   "metadata": {
    "collapsed": true
   },
   "source": [
    "## Lo que pedía el ejercicio\n",
    "* \"Encriptar usando la clave pública del apartado 1, y decodificar a una palabra de 6 letras\"      \n",
    "No sé a qué apartado 1 se refiere, así que simplemente uso mi clave pública."
   ]
  },
  {
   "cell_type": "code",
   "execution_count": 375,
   "metadata": {
    "collapsed": false
   },
   "outputs": [
    {
     "name": "stdout",
     "output_type": "stream",
     "text": [
      "Encriptamos TONTO:\n",
      "Tras codificar, comprobamos: mcd(codificado, N) = 1\n",
      "35164170\n",
      "\n",
      "M_n : 33554431, m^e : 35164170, M_n+1: 1073741823\n",
      "Nos aseguramos de que el encriptado es en un mensaje de 6 letras , M_n < 35164170 < M_n+1: True\n",
      "\n"
     ]
    }
   ],
   "source": [
    "mensaje = \"TONTO\"\n",
    "print(\"Encriptamos %s:\"%mensaje)\n",
    "encr = encriptar(mensaje, N, e)\n",
    "print(encr)\n",
    "\n",
    "print(\"\\nM_n : %d, m^e : %d, M_n+1: %d\"%(mn,encr,mn2))\n",
    "print(\"Nos aseguramos de que el encriptado es en un mensaje de %d letras , M_n < %d < M_n+1: %s\\n\"%(lng + 1,encr,(mn<encr) and (encr<mn2)))\n",
    "\n",
    "\n"
   ]
  },
  {
   "cell_type": "markdown",
   "metadata": {},
   "source": [
    "* Decodificamos mensaje encriptado"
   ]
  },
  {
   "cell_type": "code",
   "execution_count": 376,
   "metadata": {
    "collapsed": false
   },
   "outputs": [
    {
     "name": "stdout",
     "output_type": "stream",
     "text": [
      "Decodificamos 35164170:\n",
      "KAERBB\n"
     ]
    }
   ],
   "source": [
    "print(\"Decodificamos %d:\"%encr)\n",
    "decod = decodificar(encr, lng)\n",
    "print(decod)"
   ]
  },
  {
   "cell_type": "markdown",
   "metadata": {},
   "source": [
    "* Codificamos: "
   ]
  },
  {
   "cell_type": "code",
   "execution_count": 377,
   "metadata": {
    "collapsed": false,
    "scrolled": true
   },
   "outputs": [
    {
     "name": "stdout",
     "output_type": "stream",
     "text": [
      "Codificamos KAERBB\n",
      "35164170\n"
     ]
    }
   ],
   "source": [
    "print(\"Codificamos %s\"%decod)\n",
    "cod = codificar(decod)\n",
    "print(cod)"
   ]
  },
  {
   "cell_type": "markdown",
   "metadata": {},
   "source": [
    "* Desencriptamos: "
   ]
  },
  {
   "cell_type": "code",
   "execution_count": 378,
   "metadata": {
    "collapsed": false
   },
   "outputs": [
    {
     "name": "stdout",
     "output_type": "stream",
     "text": [
      "Desencriptamos 35164170\n",
      "TONTO\n"
     ]
    }
   ],
   "source": [
    "print(\"Desencriptamos %d\"%cod)\n",
    "desencr = desencriptar(cod, N, d, lng)\n",
    "print(desencr)"
   ]
  }
 ],
 "metadata": {
  "kernelspec": {
   "display_name": "SageMath 7.5.1",
   "language": "",
   "name": "sagemath"
  },
  "language_info": {
   "codemirror_mode": {
    "name": "ipython",
    "version": 2
   },
   "file_extension": ".py",
   "mimetype": "text/x-python",
   "name": "python",
   "nbconvert_exporter": "python",
   "pygments_lexer": "ipython2",
   "version": "2.7.13"
  }
 },
 "nbformat": 4,
 "nbformat_minor": 0
}
