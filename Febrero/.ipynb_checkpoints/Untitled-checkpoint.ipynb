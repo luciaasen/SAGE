{
 "cells": [
  {
   "cell_type": "code",
   "execution_count": 27,
   "metadata": {
    "collapsed": false
   },
   "outputs": [],
   "source": [
    "def isSuperC(L):\n",
    "    sn = 0\n",
    "    i = 0\n",
    "    while(i < len(L)):\n",
    "        an = L[i]\n",
    "        if an < sn:\n",
    "            return False\n",
    "        sn += an\n",
    "        i += 1\n",
    "    return True\n",
    "\n",
    "def generaSuperC(n, N):\n",
    "    L = []\n",
    "    suma = 0\n",
    "    i = 0\n",
    "    while(i < n):\n",
    "        r = randint(suma + 1, suma + N)\n",
    "        L.append(r)\n",
    "        suma += r\n",
    "        i += 1\n",
    "    return L\n",
    "\n",
    "def isSuma(x, L):\n",
    "    L2 = []\n",
    "    aux =  x\n",
    "    suma = 0\n",
    "    for i in srange(len(L) -1 , -1, -1):\n",
    "        if aux >= L[i]:\n",
    "            xi = 1\n",
    "        else:\n",
    "            xi = 0\n",
    "        L2.append(xi)    \n",
    "        aux = aux - xi * L[i]\n",
    "        suma += xi*L[i]\n",
    "    if(suma != x):\n",
    "        return [n]\n",
    "    L2.reverse()\n",
    "    return L2\n"
   ]
  },
  {
   "cell_type": "code",
   "execution_count": 112,
   "metadata": {
    "collapsed": false
   },
   "outputs": [],
   "source": [
    "def clavePrv(lng):\n",
    "    L = generaSuperC(lng, 5)\n",
    "    m = randint(2 * L[lng -1], 4 * L[lng -1])\n",
    "    '''Cosa aleatoria para buscar un numero coprimo con m: coges un primo mayor'''\n",
    "    w = next_prime(m^2)\n",
    "    return L, m, w\n",
    "\n",
    "def clavePbl(prv):\n",
    "    L = []\n",
    "    R = ZZ(prv[1])\n",
    "    for item in prv[0]:\n",
    "        L.append(prv[2] * item % prv[1] )\n",
    "    return L\n",
    "\n",
    "alfb = \"ABCDEFGHIJKLMNOPQRSTUVWXYZ\"\n",
    "Lalfb = list(alfb)\n",
    "texto = \"Through the use of abstraction and logical reasoning, mathematics developed from counting, calculation, measurement, and the systematic study of the shapes and motions of physical objects. Practical mathematics has been a human activity for as far back as written records exist. Rigorous arguments first appeared in Greek mathematics, most notably in Euclid's Elements. Mathematics developed at a relatively slow pace until the Renaissance, when mathematical innovations interacting with new scientific discoveries led to a rapid increase in the rate of mathematical discovery that continues to the present day.\"\n",
    "\n",
    "def ord2(letra):\n",
    "    L = (ZZ(Lalfb.index(letra)).digits(base = 2, padto = 5))\n",
    "    L.reverse()\n",
    "    C = ''\n",
    "    for item in L:\n",
    "        C = C+str(item)\n",
    "    return C\n",
    "\n",
    "def chr2(num_list):\n",
    "    '''[1,0] --> ['1', '0'] --> '10' --> 2 '''\n",
    "    str_list = [str(item) for item in num_list]\n",
    "    n = join(str_list, sep = \"\")\n",
    "    n2 = ZZ(n, base = 2)\n",
    "    return Lalfb[n2]\n",
    "\n",
    "from string import *\n",
    "def limpiar2(texto,alfb):\n",
    "    '''Se queda solo con el codigo ascii de lo que esta en alfb'''\n",
    "    L1 = [ord2(item.capitalize()) for item in texto  if item.capitalize() in [x for x in alfb]]\n",
    "    '''Pasa el texto de lista ascii ---> a lista char, y con join lo pasa a string'''\n",
    "    C1 = join(map(chr2,L1),sep = \"\")\n",
    "    return C1\n",
    "\n",
    "def codificar(texto):\n",
    "    L = map(ord2, list(limpiar2(texto, alfb)))\n",
    "    C = join(L, sep = \"\")\n",
    "    return C\n",
    "\n",
    "def enc(cad, cpub, N):\n",
    "    en = []\n",
    "    r = len(cad)%N\n",
    "    print len(cad), len(cad)/N\n",
    "    if r!= 0:\n",
    "        C1 = cad + '0'*(N-r)\n",
    "    else:\n",
    "        C1 = cad\n",
    "    jmax = len(C1)/N\n",
    "    j = 0\n",
    "    C2 = C1[0:]\n",
    "    while j < jmax:\n",
    "        C2 = C1[j*N: (j+1)*N]\n",
    "        i = 0\n",
    "        suma = 0\n",
    "        if j == 171:\n",
    "            print C2\n",
    "        while i < N:\n",
    "            if j == 171:\n",
    "                print j, i, cpub[i], C2[i]\n",
    "            suma += int(cpub[i])*int(C2[i])\n",
    "            i += 1\n",
    "        en.append(suma)\n",
    "        j+=1\n",
    "    return en"
   ]
  },
  {
   "cell_type": "code",
   "execution_count": 113,
   "metadata": {
    "collapsed": false
   },
   "outputs": [
    {
     "name": "stdout",
     "output_type": "stream",
     "text": [
      "2570 514/3\n",
      "110000000000000\n",
      "171 0 13 1\n",
      "171 1 78 1\n",
      "171 2 130 0\n",
      "171 3 260 0\n",
      "171 4 494 0\n",
      "171 5 1001 0\n",
      "171 6 2002 0\n",
      "171 7 4017 0\n",
      "171 8 8034 0\n",
      "171 9 16094 0\n",
      "171 10 32162 0\n",
      "171 11 64350 0\n",
      "171 12 128700 0\n",
      "171 13 127242 0\n",
      "171 14 124378 0\n"
     ]
    },
    {
     "data": {
      "text/plain": [
       "172"
      ]
     },
     "execution_count": 113,
     "metadata": {},
     "output_type": "execute_result"
    }
   ],
   "source": [
    "cod = codificar(texto)\n",
    "N = 15\n",
    "pr = clavePrv(N)\n",
    "pb = clavePbl(pr)\n",
    "en = enc(cod, pb, N)\n",
    "len(en)"
   ]
  },
  {
   "cell_type": "code",
   "execution_count": 93,
   "metadata": {
    "collapsed": false
   },
   "outputs": [
    {
     "ename": "TypeError",
     "evalue": "randint() takes exactly 2 arguments (0 given)",
     "output_type": "error",
     "traceback": [
      "\u001b[0;31m---------------------------------------------------------------------------\u001b[0m",
      "\u001b[0;31mTypeError\u001b[0m                                 Traceback (most recent call last)",
      "\u001b[0;32m<ipython-input-93-bb47f00f2357>\u001b[0m in \u001b[0;36m<module>\u001b[0;34m()\u001b[0m\n\u001b[0;32m----> 1\u001b[0;31m \u001b[0mrandint\u001b[0m\u001b[0;34m(\u001b[0m\u001b[0;34m)\u001b[0m\u001b[0;34m\u001b[0m\u001b[0m\n\u001b[0m",
      "\u001b[0;31mTypeError\u001b[0m: randint() takes exactly 2 arguments (0 given)"
     ]
    }
   ],
   "source": [
    "randint()"
   ]
  },
  {
   "cell_type": "code",
   "execution_count": null,
   "metadata": {
    "collapsed": true
   },
   "outputs": [],
   "source": []
  }
 ],
 "metadata": {
  "kernelspec": {
   "display_name": "SageMath 7.5.1",
   "language": "",
   "name": "sagemath"
  },
  "language_info": {
   "codemirror_mode": {
    "name": "ipython",
    "version": 2
   },
   "file_extension": ".py",
   "mimetype": "text/x-python",
   "name": "python",
   "nbconvert_exporter": "python",
   "pygments_lexer": "ipython2",
   "version": "2.7.13"
  }
 },
 "nbformat": 4,
 "nbformat_minor": 0
}
