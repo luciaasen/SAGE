{
 "cells": [
  {
   "cell_type": "markdown",
   "metadata": {},
   "source": [
    "# Criptografía\n",
    "\n",
    "\n",
    "$M \\times K \\xrightarrow{\\Phi \\times 1\\; codificar} N \\times K \\xrightarrow{encript} NC \\xrightarrow{\\phi\\; nums-caract} MC$\n",
    "\n",
    "$\\Phi$ codifica caracteres a numeros, no encripta\n",
    "\n",
    "Por ejemplo, encripta ciert matriz y desencripta su inversa\n",
    "\n",
    "#### Métodos desencriptación:\n",
    "* Fuerza bruta\n",
    "* Estadística (frecuencia de letras)\n",
    "\n",
    "#### Encriptación (cronológico)\n",
    "* **César  **\n",
    "Quitas espacios, puntos... 26 letras. A cada letra, int%26. Codificas.  \n",
    "Para encriptar, sumas $k \\leq 26$. Problema: espacio de claves pequeño, facil romper\n",
    "* **Cifrado de permutación   **     \n",
    "Aumenta espacio de claves dándose cuenta de que un numero y su encriptacion es solo una biyeccion de $\\mathbb{Z}_{26} \\longrightarrow \\mathbb{Z}_{26}$  \n",
    "Como hay $26!$ biyecciones, encriptas con una biyeccion, no fuerza bruta pero si por estadística\n",
    "\n",
    "* **Vigenere  **  \n",
    "Eliges clave = palabra + usar cifrado cesar    \n",
    "ENUNLUGARDELAMANCHA     \n",
    "CIRUELACIRUELACIRUE    \n",
    "Encriptas lo de arriba mediante César usando como clave el numero correspondiente a la letra de la clave que tiene debajo (La primera E se encripta en César con  2 (C = 2), pero la segunda E se encripta con la clave correspondiente a la codificación de U.\n",
    "Muy difícil si no sabes longitud de la clave.    \n",
    "Haces más dificil el desencriptamiento \"oscureciendo\" las frecuencias. Con un alfabeto de 100 chars, a la letra más frecuente (e) asignamos 12  caracteres (así, cada vez que nos encontramos una e, le asignamos un carácter diferente de los 12. A la segunda más frecuente, asignamos 10 caracteres. Así, tenemos todas misma frecuencia.        \n",
    "Todavia queda info de los pares de letras (si la th es el par mas frecuente, aunque asignes a ña t 5 chars para q f(t) = f(h) = f(a), etc, f(th) va a ser, aunque menor que si la t no tuviera varias claves, mas frecuente que las demas. Esto tb se puede oscurecer, pero no dice como.\n",
    "\n",
    "Vemos Hoja 81, funciones utiles:\n",
    "join devuelve string asociada a lista (from string import * )   \n",
    "Forma de quitar espacios y mayusculear (capitalise)\n",
    "Hojas 82, 83 para Cesar y Vigenere\n",
    "88 Resultado Vigenere, muy chuli\n",
    "\n",
    "*Conclusión criptografía clásica*: extender la clave todo lo posible.    \n",
    "Metodo$ \\not\\implies$ seguridad; Longitud clave $\\implies $ seguridad\n",
    "* **One time pad**            \n",
    "Clave: cadena inmensa de 0 y 1 aleatorios, que mantienen emisor y receptor.     \n",
    " *Codificacion*: Cada caracter se codifica en binario: 1char = 5bits.     \n",
    " *Encriptacion*: Sumas a cada i-ésimo bit del codificado el i-ésimo bit de la supermegaclave (sin llevar).    \n",
    " Vigenere, incluso si usas un libro de clave (algo muy largo), tu mensaje no es tan seguro como este porque, aunque no pudieramos analizar las frecuencias en tu texto encriptado, si podrias jugar con las frecuencias de la palabra/frase/libro clave. Es decir, la fuerza de one time pad radica en la aleatoriedad de la clave. Demostrable que **no es desencriptable.**\n",
    " Desencriptas sumando tb el mismo numero que usmaste antes.   \n",
    " \n",
    " La funcion **randint(0, 1)** INCLUYE extremos    \n",
    " Hoja 88     \n",
    " \n",
    " \n",
    " * **Matricial**           \n",
    " Coges en Z26 todas matrices 2x2. De esas, las que son invertibles sirven para criptar y desencriptar pares de dos caracteres (2 numeros una vez codificados).    \n",
    " Problema: para desencriptar, más de 100000 matrices posibles.\n",
    "**Fuerza bruta. **\n",
    " Hoja 84: divide diccionario de un txt en tripletas (las agrupa segun sus 3 primeras letras).   \n",
    " Luego, prueba con cada matriz. Para cada matriz, desencripta el texto y busca en el desencriptado cuantas tripletas que encuentra estan en las tripletas del diccionario.    \n",
    " Buscas luego cada para cada una de esas tripletas del diccionario que ha encontrado en el texto, la cantidad de plabras asociadas a esa tripleta en el dicc que estan en el texto.        \n",
    " Cuentas todas las palabras legibles que tienes con esa matriz.  \n",
    " La matrix con la q el user considera que tiene suficientes palabras legibles, es tu matriz :D\n",
    " \n",
    "**Paralelo**    \n",
    "Mejora  lo anterior \n",
    "\n",
    "\n",
    "* **RSA**       \n",
    "Clave publica: n, exp.    \n",
    "n = pxq, factores primos grandes y no muy proximos.   \n",
    "Codificas como int con la cosa explicada en la hoja q nos dio"
   ]
  },
  {
   "cell_type": "code",
   "execution_count": null,
   "metadata": {
    "collapsed": true
   },
   "outputs": [],
   "source": []
  }
 ],
 "metadata": {
  "kernelspec": {
   "display_name": "SageMath 7.5.1",
   "language": "",
   "name": "sagemath"
  },
  "language_info": {
   "codemirror_mode": {
    "name": "ipython",
    "version": 2
   },
   "file_extension": ".py",
   "mimetype": "text/x-python",
   "name": "python",
   "nbconvert_exporter": "python",
   "pygments_lexer": "ipython2",
   "version": "2.7.13"
  }
 },
 "nbformat": 4,
 "nbformat_minor": 0
}
