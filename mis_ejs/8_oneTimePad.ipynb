{
 "cells": [
  {
   "cell_type": "code",
   "execution_count": 245,
   "metadata": {
    "collapsed": false
   },
   "outputs": [],
   "source": [
    "alfb = \"ABCDEFGHIJKLMNOPQRSTUVWXYZ:;,#$@\"\n",
    "\n",
    "from string import *\n",
    "def limpiar2(texto,alfb):\n",
    "    '''Se queda solo con el codigo ascii de lo que esta en alfb'''\n",
    "    L1 = [ord2(item.capitalize()) for item in texto  if item.capitalize() in [x for x in alfb]]\n",
    "    '''Pasa el texto de lista ascii ---> a lista char, y con join lo pasa a string'''\n",
    "    C1 = join(map(chr2,L1),sep = \"\")\n",
    "    return C1\n",
    "\n",
    "Lalfb = [letra for letra in alfb]\n",
    "\n",
    "def ord2(letra):\n",
    "    L = (ZZ(Lalfb.index(letra)).digits(base = 2, padto = 5))\n",
    "    L.reverse()\n",
    "    return L\n",
    "\n",
    "def chr2(num_list):\n",
    "    '''[1,0] --> ['1', '0'] --> '10' --> 2 '''\n",
    "    str_list = [str(item) for item in num_list]\n",
    "    n = join(str_list, sep = \"\")\n",
    "    n2 = ZZ(n, base = 2)\n",
    "    return Lalfb[n2]\n",
    "\n",
    "'''Recibe 'Hola, jas' '''\n",
    "'''Devuelve '10010' '''\n",
    "def cod(texto):\n",
    "    L1 = []\n",
    "    l = limpiar2(texto, alfb)\n",
    "    palabra = map(ord2, list(l))\n",
    "    for num in palabra:\n",
    "        for bit in num:\n",
    "            L1.append(str(bit))\n",
    "    return join(L1, sep= \"\")\n",
    "\n",
    "'''Recibe una cadena de caracteres del tipo '10101'  '''\n",
    "'''Devueelve 'ABABAB' '''\n",
    "def decod(string):\n",
    "    L = list(string)\n",
    "    L2 = []\n",
    "    for i in srange (len(L)/5):\n",
    "        L2.append(chr2(L[5*i : 5*(i+1)]))\n",
    "    return join(L2, sep = \"\")\n",
    "\n",
    "def suma(n1, n2):\n",
    "    if n1 == 0:\n",
    "        return n2\n",
    "    return 1 - n2\n",
    "\n",
    "'''Esta funcion recibe una string con el texto codificado ('10100', nums = char, no int!)'''\n",
    "'''Devuelve  el mismo tipo q recibe'''\n",
    "def encr(texto):\n",
    "    enc = []\n",
    "    for i in srange(len(texto)):\n",
    "        enc.append(suma(int(texto[i]), clave[i]))\n",
    "    encStr = [str(item) for item in enc]\n",
    "    return join(encStr, sep = \"\")\n",
    "\n",
    "'''Esta funcion recibe una string codificada tal q asi: '10010'. Los numeros son chars, no ints! '''\n",
    "'''Devuelve '01010', lo mismo que recibe '''\n",
    "def desencr(texto):\n",
    "    L = []\n",
    "    for i in srange(len(texto)):\n",
    "        L.append(suma(int(texto[i]), clave[i]))\n",
    "    desencStr = [str(item) for item in L]\n",
    "    return join(desencStr, sep = \"\")\n",
    "        \n",
    "    "
   ]
  },
  {
   "cell_type": "code",
   "execution_count": 246,
   "metadata": {
    "collapsed": false
   },
   "outputs": [
    {
     "name": "stdout",
     "output_type": "stream",
     "text": [
      "[1, 0]\n",
      "['1', '0']\n",
      "10\n",
      "2\n"
     ]
    }
   ],
   "source": [
    "len(alfb)\n",
    "L = [1,0]\n",
    "print L\n",
    "str_list = [str(item) for item in L]\n",
    "print str_list\n",
    "n = join(str_list, sep = \"\")\n",
    "print n\n",
    "n3 = ZZ(n, base = 2)\n",
    "print n3"
   ]
  },
  {
   "cell_type": "code",
   "execution_count": 247,
   "metadata": {
    "collapsed": false
   },
   "outputs": [],
   "source": [
    "clave = [randint(0,1) for i in srange(0, 10^6)]"
   ]
  },
  {
   "cell_type": "code",
   "execution_count": 248,
   "metadata": {
    "collapsed": false
   },
   "outputs": [
    {
     "name": "stdout",
     "output_type": "stream",
     "text": [
      "[327, 10, 172, 153, 52, -265, 86, -124, 202]\n"
     ]
    }
   ],
   "source": [
    "def cuenta_unos(lista_clave):\n",
    "    ideal = 10^6/10/2\n",
    "    L = []\n",
    "    for i in srange(9):\n",
    "        L.append(clave[ i*10^5 : (i+1)*10^5].count(1) - ideal)\n",
    "    return L\n",
    "\n",
    "print cuenta_unos(clave)\n",
    "\n"
   ]
  },
  {
   "cell_type": "code",
   "execution_count": 252,
   "metadata": {
    "collapsed": false
   },
   "outputs": [
    {
     "name": "stdout",
     "output_type": "stream",
     "text": [
      "00111011100101100000\n",
      "11100001001001110110\n",
      ",ETW\n",
      "HOLA\n"
     ]
    }
   ],
   "source": [
    "palabra =  cod('Hola')\n",
    "print palabra\n",
    "enc = encr(palabra)\n",
    "print enc\n",
    "print decod(enc)\n",
    "desenc = desencr(enc)\n",
    "print decod(desenc)"
   ]
  },
  {
   "cell_type": "code",
   "execution_count": 204,
   "metadata": {
    "collapsed": false
   },
   "outputs": [
    {
     "name": "stdout",
     "output_type": "stream",
     "text": [
      "2\n",
      "1\n",
      "2\n"
     ]
    }
   ],
   "source": [
    "c = '101'\n",
    "for item in c:\n",
    "    print int(item)+1"
   ]
  },
  {
   "cell_type": "code",
   "execution_count": null,
   "metadata": {
    "collapsed": true
   },
   "outputs": [],
   "source": []
  },
  {
   "cell_type": "code",
   "execution_count": null,
   "metadata": {
    "collapsed": true
   },
   "outputs": [],
   "source": []
  }
 ],
 "metadata": {
  "kernelspec": {
   "display_name": "SageMath 7.5.1",
   "language": "",
   "name": "sagemath"
  },
  "language_info": {
   "codemirror_mode": {
    "name": "ipython",
    "version": 2
   },
   "file_extension": ".py",
   "mimetype": "text/x-python",
   "name": "python",
   "nbconvert_exporter": "python",
   "pygments_lexer": "ipython2",
   "version": "2.7.13"
  }
 },
 "nbformat": 4,
 "nbformat_minor": 0
}
