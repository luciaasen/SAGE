{
 "cells": [
  {
   "cell_type": "code",
   "execution_count": 9,
   "metadata": {
    "collapsed": false
   },
   "outputs": [
    {
     "data": {
      "text/html": [
       "<html><script type=\"math/tex; mode=display\">\\newcommand{\\Bold}[1]{\\mathbf{#1}}1.35914090000000 \\times 10^{7}</script></html>"
      ],
      "text/plain": [
       "1.35914090000000e7"
      ]
     },
     "metadata": {},
     "output_type": "display_data"
    },
    {
     "data": {
      "text/html": [
       "<html><script type=\"math/tex; mode=display\">\\newcommand{\\Bold}[1]{\\mathbf{#1}}1.35914089999997 \\times 10^{7}</script></html>"
      ],
      "text/plain": [
       "1.35914089999997e7"
      ]
     },
     "metadata": {},
     "output_type": "display_data"
    },
    {
     "data": {
      "text/html": [
       "<html><script type=\"math/tex; mode=display\">\\newcommand{\\Bold}[1]{\\mathbf{#1}}1.35914089999997 \\times 10^{7}</script></html>"
      ],
      "text/plain": [
       "1.35914089999997e7"
      ]
     },
     "metadata": {},
     "output_type": "display_data"
    },
    {
     "data": {
      "text/html": [
       "<html><script type=\"math/tex; mode=display\">\\newcommand{\\Bold}[1]{\\mathbf{#1}}1.35914089999997 \\times 10^{7}</script></html>"
      ],
      "text/plain": [
       "1.35914089999997e7"
      ]
     },
     "metadata": {},
     "output_type": "display_data"
    },
    {
     "data": {
      "text/html": [
       "<html><script type=\"math/tex; mode=display\">\\newcommand{\\Bold}[1]{\\mathbf{#1}}1.35914089999997 \\times 10^{7}</script></html>"
      ],
      "text/plain": [
       "1.35914089999997e7"
      ]
     },
     "metadata": {},
     "output_type": "display_data"
    },
    {
     "data": {
      "text/html": [
       "<html><script type=\"math/tex; mode=display\">\\newcommand{\\Bold}[1]{\\mathbf{#1}}1.35914089999997 \\times 10^{7}</script></html>"
      ],
      "text/plain": [
       "1.35914089999997e7"
      ]
     },
     "metadata": {},
     "output_type": "display_data"
    },
    {
     "data": {
      "text/html": [
       "<html><script type=\"math/tex; mode=display\">\\newcommand{\\Bold}[1]{\\mathbf{#1}}1.35914089999997 \\times 10^{7}</script></html>"
      ],
      "text/plain": [
       "1.35914089999997e7"
      ]
     },
     "metadata": {},
     "output_type": "display_data"
    },
    {
     "data": {
      "text/html": [
       "<html><script type=\"math/tex; mode=display\">\\newcommand{\\Bold}[1]{\\mathbf{#1}}1.35914089999997 \\times 10^{7}</script></html>"
      ],
      "text/plain": [
       "1.35914089999997e7"
      ]
     },
     "metadata": {},
     "output_type": "display_data"
    },
    {
     "data": {
      "text/html": [
       "<html><script type=\"math/tex; mode=display\">\\newcommand{\\Bold}[1]{\\mathbf{#1}}1.35914089999997 \\times 10^{7}</script></html>"
      ],
      "text/plain": [
       "1.35914089999997e7"
      ]
     },
     "metadata": {},
     "output_type": "display_data"
    },
    {
     "data": {
      "text/html": [
       "<html><script type=\"math/tex; mode=display\">\\newcommand{\\Bold}[1]{\\mathbf{#1}}1.35914089999997 \\times 10^{7}</script></html>"
      ],
      "text/plain": [
       "1.35914089999997e7"
      ]
     },
     "metadata": {},
     "output_type": "display_data"
    },
    {
     "data": {
      "text/html": [
       "<html><script type=\"math/tex; mode=display\">\\newcommand{\\Bold}[1]{\\mathbf{#1}}1.35914089999997 \\times 10^{7}</script></html>"
      ],
      "text/plain": [
       "1.35914089999997e7"
      ]
     },
     "metadata": {},
     "output_type": "display_data"
    }
   ],
   "source": [
    "def F(m):\n",
    "    A = 545140134\n",
    "    B = 13591409\n",
    "    C = 640320\n",
    "    return ((-1)^m*(factorial(6*m))*(A*m+B))/(factorial(3*m)*(factorial(m)^3)*(C^(3*m)))\n",
    "\n",
    "suma = 0\n",
    "for i in srange (0, 11):\n",
    "    suma = suma + F(i).n()\n",
    "    show(suma)"
   ]
  },
  {
   "cell_type": "markdown",
   "metadata": {},
   "source": [
    "### Ejercicio 6\n",
    "Chudnovsky mejorado"
   ]
  },
  {
   "cell_type": "code",
   "execution_count": 30,
   "metadata": {
    "collapsed": false
   },
   "outputs": [
    {
     "data": {
      "text/html": [
       "<html><script type=\"math/tex; mode=display\">\\newcommand{\\Bold}[1]{\\mathbf{#1}}\\left(3.1, 2\\right)</script></html>"
      ],
      "text/plain": [
       "(3.1, 2)"
      ]
     },
     "metadata": {},
     "output_type": "display_data"
    },
    {
     "data": {
      "text/html": [
       "<html><script type=\"math/tex; mode=display\">\\newcommand{\\Bold}[1]{\\mathbf{#1}}\\left(3.14, 2\\right)</script></html>"
      ],
      "text/plain": [
       "(3.14, 2)"
      ]
     },
     "metadata": {},
     "output_type": "display_data"
    },
    {
     "data": {
      "text/html": [
       "<html><script type=\"math/tex; mode=display\">\\newcommand{\\Bold}[1]{\\mathbf{#1}}\\left(3.142, 2\\right)</script></html>"
      ],
      "text/plain": [
       "(3.142, 2)"
      ]
     },
     "metadata": {},
     "output_type": "display_data"
    },
    {
     "data": {
      "image/png": "[encoded data removed]",
      "text/plain": [
       "Graphics object consisting of 1 graphics primitive"
      ]
     },
     "metadata": {},
     "output_type": "display_data"
    },
    {
     "data": {
      "text/plain": [
       "[m == 0.062309330782291485, n == 2.1778334498183156]"
      ]
     },
     "execution_count": 30,
     "metadata": {},
     "output_type": "execute_result"
    }
   ],
   "source": [
    "def denominador(d):\n",
    "    '''Constantes'''\n",
    "    A = 545140134\n",
    "    B = 13591409\n",
    "    '''Sumas que acumulo en el bucle'''\n",
    "    s1 = 0\n",
    "    s2 = 0\n",
    "    denominador = B\n",
    "    '''Valores iniciales de las sumas a y b (para n = 0)'''\n",
    "    a = 1\n",
    "    b = 0\n",
    "    n = 1\n",
    "    while floor(abs(10^d * (B*a + A*b))) != 0:\n",
    "        cte = (-1)*(6*n)*(6*n - 2)*(6*n - 3)*(6*n - 4)*(6*n - 5)/((640320*n)^3*(3*n)*(3*n - 1)*(3*n - 2))\n",
    "        a = a * cte\n",
    "        b = a * n\n",
    "        denominador = denominador + (B*a + A*b)\n",
    "        n += 1\n",
    "    return denominador, n\n",
    "\n",
    "def pi_ch(d):\n",
    "    den = denominador(d)\n",
    "    return 426880*sqrt(10005).n(digits = d)/den[0], den[1]\n",
    "        \n",
    "L=[]\n",
    "for  i in srange(2,5):\n",
    "    show(pi_ch(i))\n",
    "    \n",
    "for i in srange(2, 400):\n",
    "    L.append((i, pi_ch(i)[1]))\n",
    "    \n",
    "show(line2d(L))\n",
    "\n",
    "var('x m n')\n",
    "model(x) = m * x + n\n",
    "find_fit(L, model)"
   ]
  },
  {
   "cell_type": "markdown",
   "metadata": {},
   "source": [
    "### Ejercicio 7\n",
    "Rabinowitz y Wagon"
   ]
  },
  {
   "cell_type": "code",
   "execution_count": 12,
   "metadata": {
    "collapsed": false
   },
   "outputs": [
    {
     "data": {
      "text/html": [
       "<html><script type=\"math/tex; mode=display\">\\newcommand{\\Bold}[1]{\\mathbf{#1}}\\left(3.1, 8\\right)</script></html>"
      ],
      "text/plain": [
       "(3.1, 8)"
      ]
     },
     "metadata": {},
     "output_type": "display_data"
    },
    {
     "data": {
      "text/html": [
       "<html><script type=\"math/tex; mode=display\">\\newcommand{\\Bold}[1]{\\mathbf{#1}}\\left(3.14, 11\\right)</script></html>"
      ],
      "text/plain": [
       "(3.14, 11)"
      ]
     },
     "metadata": {},
     "output_type": "display_data"
    },
    {
     "data": {
      "text/html": [
       "<html><script type=\"math/tex; mode=display\">\\newcommand{\\Bold}[1]{\\mathbf{#1}}\\left(3.142, 14\\right)</script></html>"
      ],
      "text/plain": [
       "(3.142, 14)"
      ]
     },
     "metadata": {},
     "output_type": "display_data"
    },
    {
     "data": {
      "image/png": "[encoded data removed]",
      "text/plain": [
       "Graphics object consisting of 1 graphics primitive"
      ]
     },
     "metadata": {},
     "output_type": "display_data"
    },
    {
     "data": {
      "text/plain": [
       "[m == 3.316637257236838, n == -1.0887851503542985]"
      ]
     },
     "execution_count": 12,
     "metadata": {},
     "output_type": "execute_result"
    }
   ],
   "source": [
    "def pi_rw(d):\n",
    "    serie = 2\n",
    "    s = 2\n",
    "    n = 1\n",
    "    while floor(abs(s*10^d)) != 0:\n",
    "        relacion = 2*n^2/((2*n + 1)*(2*n))\n",
    "        s = s * relacion\n",
    "        serie = serie + s\n",
    "        n += 1\n",
    "    return serie.n(digits = d), n\n",
    "\n",
    "\n",
    "for i in srange(2, 5):\n",
    "    show(pi_rw(i))\n",
    "    \n",
    "L=[]    \n",
    "for i in srange(2, 400):\n",
    "    L.append((i, pi_rw(i)[1]))\n",
    "    \n",
    "show(line2d(L))\n",
    "\n",
    "var('x m n')\n",
    "model(x) = m * x + n\n",
    "find_fit(L, model)"
   ]
  },
  {
   "cell_type": "markdown",
   "metadata": {},
   "source": [
    "Hay que añadir 3 términos a la suma por cada dígito correcto de $\\pi$ que queramos añadir"
   ]
  },
  {
   "cell_type": "code",
   "execution_count": null,
   "metadata": {
    "collapsed": true
   },
   "outputs": [],
   "source": []
  }
 ],
 "metadata": {
  "kernelspec": {
   "display_name": "SageMath 7.3",
   "language": "",
   "name": "sagemath"
  },
  "language_info": {
   "codemirror_mode": {
    "name": "ipython",
    "version": 2
   },
   "file_extension": ".py",
   "mimetype": "text/x-python",
   "name": "python",
   "nbconvert_exporter": "python",
   "pygments_lexer": "ipython2",
   "version": "2.7.10"
  }
 },
 "nbformat": 4,
 "nbformat_minor": 0
}
