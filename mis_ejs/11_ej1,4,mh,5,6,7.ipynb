{
 "cells": [
  {
   "cell_type": "markdown",
   "metadata": {},
   "source": [
    "### Ejercicio 1"
   ]
  },
  {
   "cell_type": "code",
   "execution_count": 2,
   "metadata": {
    "collapsed": false
   },
   "outputs": [
    {
     "data": {
      "text/plain": [
       "[(0, (1, 0)),\n",
       " (1, (0, 105)),\n",
       " (2, (0, 214)),\n",
       " (3, (0, 300)),\n",
       " (4, (0, 384)),\n",
       " (5, (0, 483)),\n",
       " (6, (0, 611)),\n",
       " (7, (0, 697)),\n",
       " (8, (0, 791)),\n",
       " (9, (0, 891))]"
      ]
     },
     "execution_count": 2,
     "metadata": {},
     "output_type": "execute_result"
    }
   ],
   "source": [
    "def trucada(k):\n",
    "    if(random() > k/10):\n",
    "        return 0\n",
    "    return 1\n",
    "\n",
    "def mas_de(caras, lanzamientos, k):\n",
    "    cont = ([trucada(k) for i in srange(lanzamientos)]).count(1)\n",
    "    if(cont > caras):\n",
    "        return 0, cont\n",
    "    return 1, cont\n",
    "\n",
    "caras = 100; lanzamientos = 1000\n",
    "L = [(k, mas_de(caras, lanzamientos, k)) for k in srange(10)]\n",
    "L"
   ]
  },
  {
   "cell_type": "code",
   "execution_count": 3,
   "metadata": {
    "collapsed": true
   },
   "outputs": [],
   "source": [
    "def uniforme(a, b):\n",
    "    return random()*(b - a) + a"
   ]
  },
  {
   "cell_type": "code",
   "execution_count": 9,
   "metadata": {
    "collapsed": false
   },
   "outputs": [
    {
     "data": {
      "text/plain": [
       "[100,\n",
       " 100,\n",
       " 100,\n",
       " 100,\n",
       " 100,\n",
       " 76,\n",
       " 67,\n",
       " 56,\n",
       " 55,\n",
       " 52,\n",
       " 55,\n",
       " 39,\n",
       " 38,\n",
       " 40,\n",
       " 38,\n",
       " 33,\n",
       " 29,\n",
       " 34,\n",
       " 28,\n",
       " 28,\n",
       " 18,\n",
       " 17,\n",
       " 27,\n",
       " 22,\n",
       " 24,\n",
       " 22,\n",
       " 10,\n",
       " 13,\n",
       " 17]"
      ]
     },
     "execution_count": 9,
     "metadata": {},
     "output_type": "execute_result"
    }
   ],
   "source": [
    "def ruina(ini, max, min):\n",
    "    iter = 0\n",
    "    while(ini > min and ini < max):\n",
    "        if(trucada(5) == 1):\n",
    "            ini += 1\n",
    "        else:\n",
    "            ini -= 1\n",
    "        iter += 1\n",
    "    if(ini == min):\n",
    "        return 0\n",
    "    return 1\n",
    "L = [([ruina(100, 50+10*k, 50) for i in srange(100)]).count(1) for k in srange(1, 30)]\n",
    "L"
   ]
  },
  {
   "cell_type": "markdown",
   "metadata": {},
   "source": [
    "### Ejercicio 4"
   ]
  },
  {
   "cell_type": "code",
   "execution_count": 18,
   "metadata": {
    "collapsed": false
   },
   "outputs": [
    {
     "data": {
      "text/plain": [
       "{(0, 0): 0.00992999999999976,\n",
       " (0, 1): 0.00932999999999979,\n",
       " (0, 2): 0.0101999999999998,\n",
       " (0, 3): 0.00974999999999977,\n",
       " (0, 4): 0.00951999999999978,\n",
       " (0, 5): 0.0100499999999998,\n",
       " (0, 6): 0.0100199999999998,\n",
       " (0, 7): 0.0102399999999998,\n",
       " (0, 8): 0.0100099999999998,\n",
       " (0, 9): 0.00980999999999977,\n",
       " (1, 0): 0.0102999999999997,\n",
       " (1, 1): 0.0103599999999997,\n",
       " (1, 2): 0.0104599999999997,\n",
       " (1, 3): 0.0100499999999998,\n",
       " (1, 4): 0.0102199999999998,\n",
       " (1, 5): 0.00988999999999977,\n",
       " (1, 6): 0.00988999999999977,\n",
       " (1, 7): 0.0106699999999997,\n",
       " (1, 8): 0.0103099999999997,\n",
       " (1, 9): 0.00973999999999977,\n",
       " (2, 0): 0.00996999999999976,\n",
       " (2, 1): 0.0100799999999998,\n",
       " (2, 2): 0.00979999999999977,\n",
       " (2, 3): 0.00945999999999978,\n",
       " (2, 4): 0.00989999999999976,\n",
       " (2, 5): 0.0101499999999998,\n",
       " (2, 6): 0.00999999999999976,\n",
       " (2, 7): 0.00997999999999976,\n",
       " (2, 8): 0.00906999999999980,\n",
       " (2, 9): 0.00983999999999977,\n",
       " (3, 0): 0.00970999999999977,\n",
       " (3, 1): 0.0100999999999998,\n",
       " (3, 2): 0.00962999999999978,\n",
       " (3, 3): 0.00995999999999976,\n",
       " (3, 4): 0.00975999999999977,\n",
       " (3, 5): 0.0101999999999998,\n",
       " (3, 6): 0.0100199999999998,\n",
       " (3, 7): 0.0100299999999998,\n",
       " (3, 8): 0.0103499999999997,\n",
       " (3, 9): 0.00994999999999976,\n",
       " (4, 0): 0.0100799999999998,\n",
       " (4, 1): 0.0100199999999998,\n",
       " (4, 2): 0.0107499999999997,\n",
       " (4, 3): 0.0100099999999998,\n",
       " (4, 4): 0.00997999999999976,\n",
       " (4, 5): 0.0102299999999998,\n",
       " (4, 6): 0.00991999999999976,\n",
       " (4, 7): 0.00985999999999977,\n",
       " (4, 8): 0.0105199999999997,\n",
       " (4, 9): 0.00984999999999977,\n",
       " (5, 0): 0.0101199999999998,\n",
       " (5, 1): 0.00976999999999977,\n",
       " (5, 2): 0.00999999999999976,\n",
       " (5, 3): 0.0100899999999998,\n",
       " (5, 4): 0.00948999999999978,\n",
       " (5, 5): 0.0103099999999997,\n",
       " (5, 6): 0.00949999999999978,\n",
       " (5, 7): 0.00952999999999978,\n",
       " (5, 8): 0.0103199999999997,\n",
       " (5, 9): 0.00987999999999977,\n",
       " (6, 0): 0.00962999999999978,\n",
       " (6, 1): 0.0101699999999998,\n",
       " (6, 2): 0.00996999999999976,\n",
       " (6, 3): 0.00980999999999977,\n",
       " (6, 4): 0.00999999999999976,\n",
       " (6, 5): 0.00969999999999977,\n",
       " (6, 6): 0.0106399999999997,\n",
       " (6, 7): 0.0104899999999997,\n",
       " (6, 8): 0.0101999999999998,\n",
       " (6, 9): 0.0100899999999998,\n",
       " (7, 0): 0.00997999999999976,\n",
       " (7, 1): 0.0106199999999997,\n",
       " (7, 2): 0.00971999999999977,\n",
       " (7, 3): 0.0102799999999997,\n",
       " (7, 4): 0.0100999999999998,\n",
       " (7, 5): 0.00999999999999976,\n",
       " (7, 6): 0.00967999999999977,\n",
       " (7, 7): 0.00951999999999978,\n",
       " (7, 8): 0.0104799999999997,\n",
       " (7, 9): 0.00996999999999976,\n",
       " (8, 0): 0.00983999999999977,\n",
       " (8, 1): 0.0103999999999997,\n",
       " (8, 2): 0.00943999999999978,\n",
       " (8, 3): 0.00979999999999977,\n",
       " (8, 4): 0.00989999999999976,\n",
       " (8, 5): 0.00945999999999978,\n",
       " (8, 6): 0.00987999999999977,\n",
       " (8, 7): 0.0100399999999998,\n",
       " (8, 8): 0.0101399999999998,\n",
       " (8, 9): 0.0101399999999998,\n",
       " (9, 0): 0.0104199999999997,\n",
       " (9, 1): 0.0104499999999997,\n",
       " (9, 2): 0.0103099999999997,\n",
       " (9, 3): 0.00962999999999978,\n",
       " (9, 4): 0.0103299999999997,\n",
       " (9, 5): 0.00947999999999978,\n",
       " (9, 6): 0.0103899999999997,\n",
       " (9, 7): 0.00962999999999978,\n",
       " (9, 8): 0.0101099999999998,\n",
       " (9, 9): 0.0102199999999998}"
      ]
     },
     "execution_count": 18,
     "metadata": {},
     "output_type": "execute_result"
    }
   ],
   "source": [
    "def ej4_2(max):\n",
    "    d = {}\n",
    "    for i in srange(max):\n",
    "        (x, y) = (random(), random())\n",
    "        x =floor(10*x)\n",
    "        y =floor(10*y)\n",
    "        if (x,y) in d:\n",
    "            d[(x,y)] += 1/max.n()\n",
    "        else:\n",
    "            d[(x,y)] = 1/max.n()\n",
    "    return d\n",
    "ej4_2(100000)\n"
   ]
  },
  {
   "cell_type": "code",
   "execution_count": 23,
   "metadata": {
    "collapsed": false
   },
   "outputs": [
    {
     "name": "stdout",
     "output_type": "stream",
     "text": [
      "0.785493000000000\n",
      "0.785398163397448\n"
     ]
    }
   ],
   "source": [
    "def ej4_3(max):\n",
    "    cont = 0\n",
    "    for i in srange(max):\n",
    "        (x, y) = (random(), random())\n",
    "        if x^2 + y^2 <= 1:\n",
    "            cont += 1\n",
    "    return cont/max.n()\n",
    "print ej4_3(1000000j)\n",
    "print (pi/4).n()"
   ]
  },
  {
   "cell_type": "markdown",
   "metadata": {},
   "source": [
    "### Monty Hall"
   ]
  },
  {
   "cell_type": "code",
   "execution_count": 29,
   "metadata": {
    "collapsed": false
   },
   "outputs": [
    {
     "data": {
      "text/plain": [
       "66656"
      ]
     },
     "execution_count": 29,
     "metadata": {},
     "output_type": "execute_result"
    }
   ],
   "source": [
    "def montyHall(eleccion):\n",
    "    cambio = 1\n",
    "    puertas = [0,0,0]\n",
    "    puertas[randint(0,2)] = 1\n",
    "    otras = list(puertas)\n",
    "    del otras[eleccion]\n",
    "    if cambio == 0:\n",
    "        return puertas[eleccion]\n",
    "    else:\n",
    "        return (1 in otras)\n",
    "num = [montyHall(randint(0,2)) for i in srange(100000)].count(1)\n",
    "num"
   ]
  },
  {
   "cell_type": "markdown",
   "metadata": {},
   "source": [
    "### Ejercicioo 5"
   ]
  },
  {
   "cell_type": "code",
   "execution_count": 47,
   "metadata": {
    "collapsed": true
   },
   "outputs": [],
   "source": [
    "def p(ncaras, nlanzamientos, repeticiones):\n",
    "    p = 0\n",
    "    for j in srange(repeticiones):\n",
    "        cont = 0\n",
    "        i = 0\n",
    "        while i < nlanzamientos and cont < ncaras:\n",
    "            if randint(0,1) == 1:\n",
    "                cont += 1\n",
    "            else:\n",
    "                cont = 0\n",
    "            i += 1\n",
    "        if cont == ncaras:\n",
    "            p += (1/repeticiones).n()\n",
    "        j += 1\n",
    "    return p\n",
    "\n",
    "            \n",
    "    "
   ]
  },
  {
   "cell_type": "code",
   "execution_count": 54,
   "metadata": {
    "collapsed": false
   },
   "outputs": [
    {
     "data": {
      "text/plain": [
       "2.38095238095238"
      ]
     },
     "execution_count": 54,
     "metadata": {},
     "output_type": "execute_result"
    }
   ],
   "source": [
    "p = p(10, 1000, 1000)\n",
    "X = 1/p.n()\n",
    "X"
   ]
  },
  {
   "cell_type": "code",
   "execution_count": 156,
   "metadata": {
    "collapsed": false
   },
   "outputs": [],
   "source": [
    "\n",
    "\n",
    "def sombreros(N):\n",
    "    L = srange(N)\n",
    "    L2 = list(L)\n",
    "    for i in srange(N):\n",
    "        r = randint(0, N-(i+1))\n",
    "        if L2[r] == i:\n",
    "            return 1\n",
    "        else:\n",
    "            del(L2[r])\n",
    "    return 0\n"
   ]
  },
  {
   "cell_type": "code",
   "execution_count": 157,
   "metadata": {
    "collapsed": false
   },
   "outputs": [
    {
     "data": {
      "text/plain": [
       "0.632890000000000"
      ]
     },
     "execution_count": 157,
     "metadata": {},
     "output_type": "execute_result"
    }
   ],
   "source": [
    "n = ([sombreros(20) for i in srange(10^5)]).count(1)\n",
    "n/10^5.n()"
   ]
  },
  {
   "cell_type": "code",
   "execution_count": 154,
   "metadata": {
    "collapsed": false
   },
   "outputs": [
    {
     "data": {
      "text/plain": [
       "[(10, 0.134000000000000),\n",
       " (20, 0.416000000000000),\n",
       " (30, 0.696000000000000),\n",
       " (40, 0.891000000000000),\n",
       " (50, 0.979000000000000),\n",
       " (60, 0.995000000000000),\n",
       " (70, 1.00000000000000),\n",
       " (80, 1.00000000000000),\n",
       " (90, 1.00000000000000),\n",
       " (100, 1.00000000000000),\n",
       " (110, 1.00000000000000),\n",
       " (120, 1.00000000000000),\n",
       " (130, 1.00000000000000),\n",
       " (140, 1.00000000000000),\n",
       " (150, 1.00000000000000),\n",
       " (160, 1.00000000000000),\n",
       " (170, 1.00000000000000),\n",
       " (180, 1.00000000000000),\n",
       " (190, 1.00000000000000)]"
      ]
     },
     "execution_count": 154,
     "metadata": {},
     "output_type": "execute_result"
    }
   ],
   "source": [
    "def cumpleanios(N):\n",
    "    L = [randint(1, 364) for i in srange(N)]\n",
    "    s = set(L)\n",
    "    if(len(L) == len(s)):\n",
    "        return 0\n",
    "    return 1\n",
    "def pCumple(N, niter):\n",
    "    return (([cumpleanios(N) for i in srange(niter)]).count(1)/niter).n()\n",
    "pCumple(40, 1000)\n",
    "L = [(k, pCumple(k, 1000)) for k in srange(10, 200, 10)]\n",
    "L"
   ]
  },
  {
   "cell_type": "markdown",
   "metadata": {},
   "source": [
    "### Ejercicio 6"
   ]
  },
  {
   "cell_type": "code",
   "execution_count": 122,
   "metadata": {
    "collapsed": false
   },
   "outputs": [],
   "source": [
    "def inter(n, N):\n",
    "    L = n*[5]\n",
    "    for i in srange(N):\n",
    "        r1 = randint(0, n-1)\n",
    "        r2 = randint(0, n-1)\n",
    "        if L[r1] > 0:\n",
    "            L[r1] -= 1\n",
    "            L[r2] += 1\n",
    "    return L"
   ]
  },
  {
   "cell_type": "code",
   "execution_count": 129,
   "metadata": {
    "collapsed": false
   },
   "outputs": [
    {
     "data": {
      "image/png": "[encoded data removed]",
      "text/plain": [
       "Graphics object consisting of 50 graphics primitives"
      ]
     },
     "metadata": {},
     "output_type": "display_data"
    },
    {
     "data": {
      "image/png": "[encoded data removed]",
      "text/plain": [
       "Graphics object consisting of 50 graphics primitives"
      ]
     },
     "metadata": {},
     "output_type": "display_data"
    },
    {
     "data": {
      "image/png": "[encoded data removed]",
      "text/plain": [
       "Graphics object consisting of 50 graphics primitives"
      ]
     },
     "metadata": {},
     "output_type": "display_data"
    },
    {
     "data": {
      "image/png": "[encoded data removed]",
      "text/plain": [
       "Graphics object consisting of 50 graphics primitives"
      ]
     },
     "metadata": {},
     "output_type": "display_data"
    },
    {
     "data": {
      "image/png": "[encoded data removed]",
      "text/plain": [
       "Graphics object consisting of 50 graphics primitives"
      ]
     },
     "metadata": {},
     "output_type": "display_data"
    },
    {
     "data": {
      "image/png": "[encoded data removed]",
      "text/plain": [
       "Graphics object consisting of 50 graphics primitives"
      ]
     },
     "metadata": {},
     "output_type": "display_data"
    },
    {
     "data": {
      "image/png": "[encoded data removed]",
      "text/plain": [
       "Graphics object consisting of 50 graphics primitives"
      ]
     },
     "metadata": {},
     "output_type": "display_data"
    }
   ],
   "source": [
    "for k in srange(1, 8):\n",
    "    L = inter(100, 10^k)\n",
    "    T = finance.TimeSeries(L)\n",
    "    show(T.plot_histogram())"
   ]
  },
  {
   "cell_type": "markdown",
   "metadata": {},
   "source": [
    "### Ejercicio 7"
   ]
  },
  {
   "cell_type": "code",
   "execution_count": 135,
   "metadata": {
    "collapsed": false
   },
   "outputs": [],
   "source": [
    "def cambio(anterior):\n",
    "    x = random()\n",
    "    if anterior == 1:\n",
    "        if x < 0.3:\n",
    "            return 1\n",
    "        elif x < 0.8:\n",
    "            return -1\n",
    "        else: return 0\n",
    "    elif anterior == 0:\n",
    "        if x < 0.4:\n",
    "            return 1\n",
    "        elif x < 0.8:\n",
    "            return -1\n",
    "        else: return 0\n",
    "    else:\n",
    "        if x < 0.4:\n",
    "            return 1\n",
    "        elif x < 0.7:\n",
    "            return -1\n",
    "        else: return 0\n",
    "    "
   ]
  },
  {
   "cell_type": "code",
   "execution_count": 146,
   "metadata": {
    "collapsed": false
   },
   "outputs": [],
   "source": [
    "def analisis(size):\n",
    "    x = randint(-1, 1)\n",
    "    L = [[-1,0],[0,0],[1,0]]\n",
    "    for i in srange(size):\n",
    "        L[x+1][1] += (1/size).n()\n",
    "        x = cambio(x)\n",
    "    return L"
   ]
  },
  {
   "cell_type": "code",
   "execution_count": 147,
   "metadata": {
    "collapsed": false
   },
   "outputs": [
    {
     "data": {
      "text/plain": [
       "[[-1, 0.396310000000256], [0, 0.238710000000098], [1, 0.364980000000224]]"
      ]
     },
     "execution_count": 147,
     "metadata": {},
     "output_type": "execute_result"
    }
   ],
   "source": [
    "L = analisis(100000)\n",
    "L"
   ]
  },
  {
   "cell_type": "markdown",
   "metadata": {},
   "source": [
    "### Ejercicio 8"
   ]
  },
  {
   "cell_type": "code",
   "execution_count": null,
   "metadata": {
    "collapsed": false
   },
   "outputs": [],
   "source": []
  },
  {
   "cell_type": "code",
   "execution_count": 149,
   "metadata": {
    "collapsed": false
   },
   "outputs": [
    {
     "data": {
      "text/plain": [
       "3.96514476122298"
      ]
     },
     "execution_count": 149,
     "metadata": {},
     "output_type": "execute_result"
    }
   ],
   "source": []
  },
  {
   "cell_type": "code",
   "execution_count": null,
   "metadata": {
    "collapsed": true
   },
   "outputs": [],
   "source": []
  }
 ],
 "metadata": {
  "kernelspec": {
   "display_name": "SageMath 7.5.1",
   "language": "",
   "name": "sagemath"
  },
  "language_info": {
   "codemirror_mode": {
    "name": "ipython",
    "version": 2
   },
   "file_extension": ".py",
   "mimetype": "text/x-python",
   "name": "python",
   "nbconvert_exporter": "python",
   "pygments_lexer": "ipython2",
   "version": "2.7.13"
  }
 },
 "nbformat": 4,
 "nbformat_minor": 0
}
