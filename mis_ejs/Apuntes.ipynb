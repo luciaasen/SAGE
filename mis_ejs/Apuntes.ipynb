{
 "cells": [
  {
   "cell_type": "markdown",
   "metadata": {},
   "source": [
    "Clase "
   ]
  },
  {
   "cell_type": "markdown",
   "metadata": {},
   "source": [
    "**FRACTALES**: ver cuales son os comandos que necesitaremos usar sin llegar a anetenderlo en 57-COMPL-fractal-cython-numpy.ipynb"
   ]
  },
  {
   "cell_type": "markdown",
   "metadata": {},
   "source": [
    "**ORBITAS**: vemos algo raro q hace para simular orbitas que no se cierran por que elmetodo no es lo suficientemente exacto, esto se arregla con metodo simplectico"
   ]
  },
  {
   "cell_type": "markdown",
   "metadata": {},
   "source": [
    "Hoja de **COMPRESION**: mas compresion cuanto mas previsible es la aparicion de ceros o unos "
   ]
  },
  {
   "cell_type": "markdown",
   "metadata": {},
   "source": [
    "Para números **ALEATORIOS** usar input 9 de la hoja compresion de esta carpeta"
   ]
  },
  {
   "cell_type": "markdown",
   "metadata": {},
   "source": [
    "Juego de la vida: C_Vida-numpy-cython para **ANIMACIONES**; usar comando usr/local/anaconda2(o 2.7?)/bin/jupyter notebook\n",
    "Acelerar código: No comprobar si denom=o: @cython.cdivision(True), limites arrays  @cython.boundscheck(False) (para no comprobar lims arrays)se aplica a la funcion que sigue; funciones con cdef que solo usen cdefs dentro"
   ]
  },
  {
   "cell_type": "markdown",
   "metadata": {},
   "source": [
    "**TEORIA DE NUMEROS**:\n",
    "    congruencias, fibonacci,"
   ]
  },
  {
   "cell_type": "markdown",
   "metadata": {},
   "source": [
    "Precisión con el señor fibonacci: quitar términos, .n(), para ver eficiencia: %time , timeit()"
   ]
  },
  {
   "cell_type": "markdown",
   "metadata": {},
   "source": [
    "Algoritmo de Euclides, Bezout  \n",
    "a//b cociente (sin resto);   \n",
    "mcd(a,b)=mcd(b,r0)"
   ]
  },
  {
   "cell_type": "markdown",
   "metadata": {
    "collapsed": true
   },
   "source": [
    "**FIBONACCI** en la hoja mas-fibonacci se ve cual es la precision ecesaria para calculas el emesimo con una aproximacion: tb se ve como hacer **GRAFICA** y obtener **APROXIMACION LINEAL**\n",
    "Preguntale al niño de cuarto algo que pregunto acerc de las listas [[]] y [[],[],[]]"
   ]
  },
  {
   "cell_type": "markdown",
   "metadata": {},
   "source": [
    "El máxi num divpara euclides: em hoja 63 de esta carpeta. NO DEPENDE DE A\n",
    "\n",
    "\n",
    "$ \\\\ a>b, \\;b \\: \\text{con } k \\: \\text{cifras decimales} \\\\ Max|div_{euclides}| \\: \\:\\text{para Euclides} \\left(a, b\\right) \\: \\approx 5k \\\\ $ "
   ]
  },
  {
   "cell_type": "markdown",
   "metadata": {
    "collapsed": true
   },
   "source": [
    "TEMA 7\n",
    "n : numerical_approx(sqrt(2), digits = 4/prec=4 (prec: precision binaria))"
   ]
  },
  {
   "cell_type": "markdown",
   "metadata": {},
   "source": [
    "Puedes hacer operaciones en tu propio cuerpocon n bits de precision con instrucciones como NR= RealField(prec=n)\n",
    "Con NR(pi) hacemos que pi tenga n bits decimales\n",
    "Un digito= maomeno 4 bits, así son equivalentes:\n",
    "N(pi, digits = 616) y N(pi, prec=2048)\n",
    "tipo de dato: type(n)\n",
    "Hoja 71 del profe en esta carpeta:\n",
    "Tenemos error de redondeo despues de definir RealField(2048) (aumentamos la precision), y este es un error que no tendriamos si la precision fuera menor.\n",
    "\n",
    "TAYLOR(f, x, 0, 5)--> grado 5 en x=0"
   ]
  },
  {
   "cell_type": "markdown",
   "metadata": {},
   "source": [
    "Seguimos con $\\pi$ (capitulo 7)\n",
    "\n",
    "BBP da cifras hexadecimales de $\\pi$ :\n",
    "$ n-k > 0 \\rightarrow \\text{sumando se calcula  powermod}(n, k, m) := n^k \\text{mod } m $\n",
    "\n",
    "Los demás, se obtienen sumando términos hasta que el segundo sumando sea despreciable"
   ]
  },
  {
   "cell_type": "markdown",
   "metadata": {},
   "source": [
    "numero.str(base = 16) pasa a STR base 16;\n",
    "\n",
    "**FIND_FIT** devuelve una funcion dada una grafica;\n",
    "\n",
    "gcd lcm **MCD mcm**"
   ]
  },
  {
   "cell_type": "markdown",
   "metadata": {
    "collapsed": true
   },
   "source": [
    " **SUMA**: (sum([2∗k+1 for k in range(m)]))\n",
    " \n",
    " POLINOMIO <-> MONOMIO exp.expand()\n",
    " exp.factor()\n",
    " \n",
    " **GRÁFICAS** 2.4, p35\n",
    " \n",
    " **RESOLVER ECUACIONES**\n",
    " "
   ]
  },
  {
   "cell_type": "code",
   "execution_count": 1,
   "metadata": {
    "collapsed": false
   },
   "outputs": [
    {
     "data": {
      "text/plain": [
       "[[x == 3, y == -3]]"
      ]
     },
     "execution_count": 1,
     "metadata": {},
     "output_type": "execute_result"
    }
   ],
   "source": [
    "var('x y')\n",
    "solve([x+y, x-y==6], x, y)"
   ]
  },
  {
   "cell_type": "code",
   "execution_count": null,
   "metadata": {
    "collapsed": true
   },
   "outputs": [],
   "source": []
  },
  {
   "cell_type": "markdown",
   "metadata": {},
   "source": [
    "**LIMITES FUNCIONES SUCESIONES**\n",
    "f1 = x+2\n",
    "f1.limit(x=+oo) \n",
    "\n",
    "**SUM**\n",
    "sum(expresion, variable, limite inferior, limite superior)\n",
    "\n",
    "\n",
    "**DERIVADA** j-ésima de la n-ésima variable de F(x,y,...,n)         \n",
    "F.derivative(n,j)    \n",
    "diff(f, n, 11)   ejemplo en 1 variable, no se si se puede con mas      \n",
    "f.diff(x) / diff(f, x)  derivada parcial resp a x\n",
    "\n",
    "\n",
    "**INTEGRAL**                         \n",
    " + PRIMITIVAS: f.integrate(x) / integral(f)                   \n",
    " + DEFINIDA: (f.integrate(x, 0.5, 1.5)).n() / numerial_integral(f, 0.5, 1.5) $ \\leftarrow$ devuelve valor + cotaerror\n",
    " \n",
    "**MATRICES**:           \n",
    "2.6, p40             \n",
    "diagonal_matrix( [0..40,step=4] )            \n",
    " A.eigenvalues()\n",
    " \n",
    " **LISTAS**       \n",
    " p.58 len(L), L[1:5:2], L[::3]     \n",
    " copias: L2 = list(L)       \n",
    " srange(j,k,d) devuelve lista: tercer argumento, la diferencia entre elementos       \n",
    " L[i].count(), .index() .remove(elem) insert(index, element), .reverse(), .pop(ind), del(L[3:5]) *no* incluye al 5      \n",
    " 24.digits(base, padto=numdigitos) genera lista [4,2]      \n",
    " Transformar en lista: L = list(k.factor())  (factores primos de k)    \n",
    " zip(L1, L2) hace lista de pares from 2 listas: In9 de la hoja 113 de Marzo"
   ]
  },
  {
   "cell_type": "markdown",
   "metadata": {
    "collapsed": true
   },
   "source": [
    "**TUPLAS**     \n",
    "Inmutables            \n",
    "**BEZOUT**: xgcd(a, b) = (mcd, u, v) tq au + bv = mcd  \n",
    "tuplas de cosas inmutables (no listas, no tuplas)"
   ]
  },
  {
   "cell_type": "markdown",
   "metadata": {},
   "source": [
    "**STRINGS**      \n",
    "Inmutables         \n",
    "operaciones + y * como en listas         \n",
    "str(123) = '123'     \n",
    ".index(), .count()       \n",
    "subfr = fr.split('separador_pordefecto_space')   devuelve Lista    \n",
    "indice = frase.find('encontrar', i, j)   i,j indices entre los q buscar      \n"
   ]
  },
  {
   "cell_type": "markdown",
   "metadata": {},
   "source": [
    "** SETS**    \n",
    "no indices         \n",
    "mutables, sus elementos inmutables        \n",
    "S = set(L) = {2, 4, 6} \n",
    " $\\in $ elemento in S (Bool)       \n",
    " $ \\cup $ S1 | S2           \n",
    " $ \\cap $ S1 & S2        \n",
    " $ - $ S1 - S2          \n",
    " $ \\subset $ S1 <= S2         \n",
    " len(S), S.add(elemento), S.remove(elemento), S.update(S2)"
   ]
  },
  {
   "cell_type": "markdown",
   "metadata": {
    "collapsed": true
   },
   "source": [
    "** DICCIONARIOS **         \n",
    "dicc = dict()   \n",
    "dicc = {cosa:numero, cosa2:numero2}     \n",
    "dicc[cosa2] = numero2       \n",
    "del dicc[cosa]           \n",
    "dicc.keys() lista de cosas, .values() lista de valores, .items() lista de pares          \n",
    "cosa(key) in dicc\n",
    "Podemos introducir en dicc una lista de pares así:    \n",
    "     dicc=dict(zip(L1,L2))     $ \\leftarrow$ {L1[i]:L2[i]}          \n",
    "     dicc([(j, j^2) for j in [1..9]])  $ \\leftarrow$ {j:j^2}"
   ]
  },
  {
   "cell_type": "markdown",
   "metadata": {},
   "source": [
    "**CONVERSIONES**      \n",
    "Tupla $  \\longrightarrow $ lista : list(T)          \n",
    "Tupla $  \\longrightarrow $ set : set(T)      \n",
    "String $  \\longrightarrow $ lista : list(S) : 'ab' $  \\longrightarrow $ ['a', 'b']      \n",
    "Lista $  \\longrightarrow $ string: str(list('ab')) $  \\longrightarrow $ '['a' 'b']'        \n",
    "Lista $  \\longrightarrow $ string: join(list('ab'), sep=\"\") $  \\longrightarrow $ 'ab'             \n",
    "Lista $  \\longrightarrow $ tupla : tuple(L)           \n",
    "Lista $  \\longrightarrow $ set : set(L)       \n",
    "Set $  \\longrightarrow $ lista : list(S)               \n",
    "Dict $  \\longrightarrow $ lista pares: d.items()      \n"
   ]
  },
  {
   "cell_type": "markdown",
   "metadata": {},
   "source": [
    "**TEMA 4**\n",
    "xsrange vs srange p. 80      \n",
    "next_prime(prime), is_prime(n), prime_rnge(7) primos MENORES 7, nth_prime(numero)     \n",
    "L2 = map(f,L) aplica f a los items de L      \n",
    "if: elif: else:      \n",
    "power_mod(a,n,m)   a^n mod m         \n",
    "$\\mathbb{Z}_m = $ Zm = Integers(m),     variable=Zm(numero)"
   ]
  },
  {
   "cell_type": "markdown",
   "metadata": {
    "collapsed": true
   },
   "source": [
    "** BASES **     \n",
    "ZZ('40', 6) da en decimal el 40 en base 6     \n",
    "24.digits(base, padto=numdigitos) genera lista [4,2]   \n",
    "Para **potencias** y **listas binarias** : hoja 51, copia-pega funciones\n",
    " "
   ]
  },
  {
   "cell_type": "markdown",
   "metadata": {},
   "source": [
    "**TIEMPOS**       \n",
    "%time al principio de una linea\n",
    "timeit(\"Intruccion entre comillas\", preparse=None, number=5, repeat=3, precision=3)     \n",
    "(solo es necesario el primer argumento)          \n",
    "*Esta no me ha funcionado:*      \n",
    "import cProfile, pstats\n",
    "cProfile.runctx(\"L = orbitaspamuchosZm(L2, f)\", globals(), locals(), DATA + \"Profile.prof\")     \n",
    "s = pstats.Stats(DATA + \"Profile.prof\")      \n",
    "s.strip_dirs().sort_stats(\"time\").print_stats()      \n",
    "Memoria en uso:    \n",
    "a = get_memory_usage()    \n",
    "show(\"%lf MB en uso\" %a)"
   ]
  },
  {
   "cell_type": "markdown",
   "metadata": {},
   "source": [
    "**CYTHON, NUMPY**   \n",
    "\n",
    "al principio, %cython      \n",
    "al declarar var, cdef int/float/long a = 0\n",
    "\n",
    "import numpy as np    \n",
    "al declarar listas/matrices: A = np.array([[1, 2, 3][4, 5, 6]])   \n",
    "cdef np.ndarray[np.float64_t,ndim=2]r = np.empty((runs,2),dtype=np.float64)  \n",
    "np.zeros((2, 1)) matriz ceros 2filas 1 col      \n",
    "si muy desesperada, mira fotos y hojas 56, 57en carpeta Nov , 55, 57 en Oct"
   ]
  },
  {
   "cell_type": "markdown",
   "metadata": {
    "collapsed": true
   },
   "source": [
    "** OPTIMIZACION ALEATORIOS**\n",
    "copia-pega codigo from hoja 55 en Oct"
   ]
  },
  {
   "cell_type": "code",
   "execution_count": 1,
   "metadata": {
    "collapsed": true
   },
   "outputs": [],
   "source": [
    "%%cython\n",
    "\n",
    "cdef extern from 'gsl/gsl_rng.h':\n",
    "   ctypedef struct gsl_rng_type:\n",
    "      pass\n",
    "   ctypedef struct gsl_rng:\n",
    "       pass\n",
    "   gsl_rng_type *gsl_rng_mt19937\n",
    "   gsl_rng *gsl_rng_alloc(gsl_rng_type * T)\n",
    "  \n",
    "cdef gsl_rng *r = gsl_rng_alloc(gsl_rng_mt19937)\n",
    "\n",
    "cdef extern from 'gsl/gsl_randist.h':\n",
    "     long int uniform 'gsl_rng_uniform_int'(gsl_rng * r, unsigned long int n)\n",
    "\n",
    "def main():\n",
    "    cdef int n\n",
    "    n = uniform(r,1000000)\n",
    "    return n\n"
   ]
  },
  {
   "cell_type": "code",
   "execution_count": null,
   "metadata": {
    "collapsed": true
   },
   "outputs": [],
   "source": []
  }
 ],
 "metadata": {
  "kernelspec": {
   "display_name": "SageMath 7.5.1",
   "language": "",
   "name": "sagemath"
  },
  "language_info": {
   "codemirror_mode": {
    "name": "ipython",
    "version": 2
   },
   "file_extension": ".py",
   "mimetype": "text/x-python",
   "name": "python",
   "nbconvert_exporter": "python",
   "pygments_lexer": "ipython2",
   "version": "2.7.13"
  }
 },
 "nbformat": 4,
 "nbformat_minor": 0
}
