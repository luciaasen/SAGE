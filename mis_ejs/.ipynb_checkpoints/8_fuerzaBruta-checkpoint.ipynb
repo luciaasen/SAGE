{
 "cells": [
  {
   "cell_type": "code",
   "execution_count": 4,
   "metadata": {
    "collapsed": false
   },
   "outputs": [],
   "source": [
    "R = Integers(26)\n",
    "M = MatrixSpace(R, 2, 2)"
   ]
  },
  {
   "cell_type": "code",
   "execution_count": 5,
   "metadata": {
    "collapsed": false
   },
   "outputs": [
    {
     "data": {
      "text/plain": [
       "'hola'"
      ]
     },
     "execution_count": 5,
     "metadata": {},
     "output_type": "execute_result"
    }
   ],
   "source": [
    "'hola'"
   ]
  },
  {
   "cell_type": "code",
   "execution_count": 6,
   "metadata": {
    "collapsed": false
   },
   "outputs": [
    {
     "data": {
      "text/plain": [
       "456976"
      ]
     },
     "execution_count": 6,
     "metadata": {},
     "output_type": "execute_result"
    }
   ],
   "source": [
    "len(M)"
   ]
  },
  {
   "cell_type": "code",
   "execution_count": 7,
   "metadata": {
    "collapsed": false
   },
   "outputs": [
    {
     "data": {
      "text/plain": [
       "[ 0 18]\n",
       "[11  0]"
      ]
     },
     "execution_count": 7,
     "metadata": {},
     "output_type": "execute_result"
    }
   ],
   "source": [
    "M[40401]"
   ]
  },
  {
   "cell_type": "code",
   "execution_count": 8,
   "metadata": {
    "collapsed": true
   },
   "outputs": [],
   "source": [
    "M2 = [item for item in M if gcd(det(item), 26) == 1]"
   ]
  },
  {
   "cell_type": "code",
   "execution_count": 9,
   "metadata": {
    "collapsed": false
   },
   "outputs": [
    {
     "data": {
      "text/plain": [
       "157248"
      ]
     },
     "execution_count": 9,
     "metadata": {},
     "output_type": "execute_result"
    }
   ],
   "source": [
    "len(M2)"
   ]
  },
  {
   "cell_type": "code",
   "execution_count": 10,
   "metadata": {
    "collapsed": false
   },
   "outputs": [],
   "source": [
    "alfb = \"ABCDEFGHIJKLMNOPQRSTUVWXYZ\"\n",
    "\n",
    "from string import *\n",
    "def limpiar2(texto,alfb):\n",
    "    '''Se queda solo con el codigo ascii de lo que esta en alfb'''\n",
    "    L1 = [ord2(item.capitalize()) for item in texto  if item.capitalize() in [x for x in alfb]]\n",
    "    '''Pasa el texto de lista ascii ---> a lista char, y con join lo pasa a string'''\n",
    "    C1 = join(map(chr2,L1),sep = \"\")\n",
    "    return C1\n",
    "\n",
    "Lalfb = [letra for letra in alfb]\n",
    "def ord2(letra):\n",
    "    return R(Lalfb.index(letra))\n",
    "\n",
    "def chr2(num):\n",
    "    return Lalfb[num]\n",
    "\n",
    "def codifica(mensaje):\n",
    "    mensaje = limpiar2(mensaje, alfb)\n",
    "    Lmens = list(mensaje)\n",
    "    L = map(ord2, Lmens)\n",
    "    return L\n",
    "\n",
    "def encripta(cod, matriz):\n",
    "    cols = matriz.ncols()\n",
    "    L = []\n",
    "    '''aux = cod'''\n",
    "    aux = cod[:len(cod)]\n",
    "    while(len(aux) > 0):\n",
    "        '''Aqui solo entra en la ultima iteracion para rellenar con ceros\n",
    "        hasta completar la longitud necesaria para llenar un vector'''\n",
    "        while len(aux) < cols:\n",
    "            aux += [0]\n",
    "        vect = vector(R, aux[:cols])\n",
    "        vect = list(matriz * vect)\n",
    "        L += vect\n",
    "        aux = aux[cols:]\n",
    "    cadena = join(map(chr2, L), sep = \"\")\n",
    "    return cadena\n",
    "\n"
   ]
  },
  {
   "cell_type": "code",
   "execution_count": 11,
   "metadata": {
    "collapsed": false
   },
   "outputs": [],
   "source": [
    "texto=\"THROUGHTHEUSEOFABSTRACTIONANDLOGICALREASONINGMATHEMATICSDEVELOPEDFROMCOUNTINGCALCULATIONMEASUREMENTANDTHESYSTEMATICSTUDYOFTHESHAPESANDMOTIONSOFPHYSICALOBJECTSPRACTICALMATHEMATICSHASBEENAHUMANACTIVITYFORASFARBACKASWRITTENRECORDSEXISTRIGOROUSARGUMENTSFIRSTAPPEAREDINGREEKMATHEMATICSMOSTNOTABLYINEUCLIDSELEMENTSMATHEMATICSDEVELOPEDATARELATIVELYSLOWPACEUNTILTHERENAISSANCEWHENMATHEMATICALINNOVATIONSINTERACTINGWITHNEWSCIENTIFICDISCOVERIESLEDTOARAPIDINCREASEINTHERATEOFMATHEMATICALDISCOVERYTHATCONTINUESTOTHEPRESENTDAY\""
   ]
  },
  {
   "cell_type": "code",
   "execution_count": 12,
   "metadata": {
    "collapsed": false
   },
   "outputs": [
    {
     "name": "stdout",
     "output_type": "stream",
     "text": [
      "OHHOMGMTTEWSUOFADSSRGCRIBNNNKLGGOCHLDECSBNVNQMFTTEMARIESPEHEBOBESFHOSCWUSTVNMCHLKULARIBNYECSTROMRNTAWDOHGSASFEMARIESBUXYDFOHGSHABESAWDCORIBNIOYPBYQICABOCJKCVSORGCRICAVMFTTEMARIESHAVBQENAPUMANAHTTVNTNFNRCSFAUBGCKAGWPIYTRNDESOADEEVIXTPIWOHOWSZROUYESTHFHRXTTPBEZRNDVNFRQEUMFTTEMARIESCOXTDOTAILWIZEACJIFSLLOMRNVSMAOHOMFTOCBDPVLLHPNDFTZRLLFTTVLLASBOPPGCMUSTPLOHDRRNYIUSNNOERHRNMAOHOMFTOCHLVNDOVARIBNQISTDRGCRIFGUIOHZEYSAIRNRIDILDKSSOHEPIGSXEITOARANIBITCDECSCISTTERAFEDFMAOHOMFTOCHLBIYCZVDRDTHAZCBNRIVUGSJOOHXPDEEESTDAYA\n",
      "\n",
      "Desencriptamos:\n",
      "\n",
      "THROUGHTHEUSEOFABSTRACTIONANDLOGICALREASONINGMATHEMATICSDEVELOPEDFROMCOUNTINGCALCULATIONMEASUREMENTANDTHESYSTEMATICSTUDYOFTHESHAPESANDMOTIONSOFPHYSICALOBJECTSPRACTICALMATHEMATICSHASBEENAHUMANACTIVITYFORASFARBACKASWRITTENRECORDSEXISTRIGOROUSARGUMENTSFIRSTAPPEAREDINGREEKMATHEMATICSMOSTNOTABLYINEUCLIDSELEMENTSMATHEMATICSDEVELOPEDATARELATIVELYSLOWPACEUNTILTHERENAISSANCEWHENMATHEMATICALINNOVATIONSINTERACTINGWITHNEWSCIENTIFICDISCOVERIESLEDTOARAPIDINCREASEINTHERATEOFMATHEMATICALDISCOVERYTHATCONTINUESTOTHEPRESENTDAYA\n"
     ]
    }
   ],
   "source": [
    "cod = codifica(texto)\n",
    "enc = encripta(cod,matrix(R,[[1,3],[0,1]]))\n",
    "print enc\n",
    "print \"\\nDesencriptamos:\\n\"\n",
    "print encripta(codifica(enc),matrix(R,[[1,3],[0,1]]).inverse())\n"
   ]
  },
  {
   "cell_type": "code",
   "execution_count": 13,
   "metadata": {
    "collapsed": true
   },
   "outputs": [],
   "source": [
    "def diccionario(L):\n",
    "    dicc = {}\n",
    "    infile = open(\"PALABRAS2.txt\",\"r\")\n",
    "    for palabra in infile.readlines():\n",
    "        '''el [:-1] es para quitar el \\n del final'''\n",
    "        if len(palabra[:-1])<3:\n",
    "            '''Despreciamos palabras de 2 caracteres.'''\n",
    "            continue\n",
    "        elif dicc.has_key(palabra[:3]):\n",
    "           dicc[palabra[:3]].append(palabra[:-1])\n",
    "        else:\n",
    "            dicc[palabra[:3]]=[palabra[:-1]]\n",
    "    for palabra in L:\n",
    "        '''Este bucle es para añadir al diccionario unas pocas\n",
    "            palabras que podrían faltar. NO es importante'''\n",
    "        dicc[palabra]=[palabra]\n",
    "    infile.close()\n",
    "    return dicc\n",
    "dicc=diccionario([])"
   ]
  },
  {
   "cell_type": "code",
   "execution_count": 14,
   "metadata": {
    "collapsed": false
   },
   "outputs": [
    {
     "name": "stdout",
     "output_type": "stream",
     "text": [
      "CPU times: user 1min 35s, sys: 240 ms, total: 1min 35s\n",
      "Wall time: 1min 35s\n"
     ]
    },
    {
     "data": {
      "text/plain": [
       "(482,\n",
       " 'THROUGHTHEUSEOFABSTRACTIONANDLOGICALREASONINGMATHEMATICSDEVELOPEDFROMCOUNTINGCALCULATIONMEASUREMENTANDTHESYSTEMATICSTUDYOFTHESHAPESANDMOTIONSOFPHYSICALOBJECTSPRACTICALMATHEMATICSHASBEENAHUMANACTIVITYFORASFARBACKASWRITTENRECORDSEXISTRIGOROUSARGUMENTSFIRSTAPPEAREDINGREEKMATHEMATICSMOSTNOTABLYINEUCLIDSELEMENTSMATHEMATICSDEVELOPEDATARELATIVELYSLOWPACEUNTILTHERENAISSANCEWHENMATHEMATICALINNOVATIONSINTERACTINGWITHNEWSCIENTIFICDISCOVERIESLEDTOARAPIDINCREASEINTHERATEOFMATHEMATICALDISCOVERYTHATCONTINUESTOTHEPRESENTDAYA')"
      ]
     },
     "execution_count": 14,
     "metadata": {},
     "output_type": "execute_result"
    }
   ],
   "source": [
    "'''Buscar tripletas que son claves en dicc'''\n",
    "def claves(texto, dicc):\n",
    "    L = []\n",
    "    for i in srange(len(texto) - 2):\n",
    "        if dicc.has_key(texto[i:i+3]):\n",
    "            L.append(texto[i:i+3])\n",
    "    return L\n",
    "\n",
    "def palabras(texto, dicc):\n",
    "    L = claves(texto, dicc)\n",
    "    cont = 0\n",
    "    for item in L:\n",
    "        for palabra in dicc[item]:\n",
    "            num = texto.count(palabra)\n",
    "            if len(palabra)>4   and num > 0:\n",
    "                cont += num\n",
    "    return cont\n",
    "\n",
    "def fuerzaBruta(texto, dicc):\n",
    "    mayor, txt = 0, \"\"\n",
    "    cod = codifica(texto)\n",
    "    for m in M2:\n",
    "        enc = encripta(cod, m)\n",
    "        cont = palabras(enc, dicc)\n",
    "        if(cont > mayor):\n",
    "            mayor, txt = cont, enc\n",
    "            if cont > len(texto)//4:\n",
    "                break\n",
    "    return mayor, txt\n",
    "\n",
    "%time fuerzaBruta(enc, dicc)\n",
    "        "
   ]
  },
  {
   "cell_type": "code",
   "execution_count": 66,
   "metadata": {
    "collapsed": true
   },
   "outputs": [],
   "source": []
  },
  {
   "cell_type": "code",
   "execution_count": null,
   "metadata": {
    "collapsed": true
   },
   "outputs": [],
   "source": []
  }
 ],
 "metadata": {
  "kernelspec": {
   "display_name": "SageMath 7.3",
   "language": "",
   "name": "sagemath"
  },
  "language_info": {
   "codemirror_mode": {
    "name": "ipython",
    "version": 2
   },
   "file_extension": ".py",
   "mimetype": "text/x-python",
   "name": "python",
   "nbconvert_exporter": "python",
   "pygments_lexer": "ipython2",
   "version": "2.7.10"
  }
 },
 "nbformat": 4,
 "nbformat_minor": 0
}
