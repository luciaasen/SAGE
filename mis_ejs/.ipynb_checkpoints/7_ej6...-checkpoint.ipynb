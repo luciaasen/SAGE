{
 "cells": [
  {
   "cell_type": "code",
   "execution_count": 3,
   "metadata": {
    "collapsed": false
   },
   "outputs": [
    {
     "data": {
      "text/html": [
       "<html><script type=\"math/tex; mode=display\">\\newcommand{\\Bold}[1]{\\mathbf{#1}}-2.55383735543025 \\times 10^{-7}</script></html>"
      ],
      "text/plain": [
       "-2.55383735543025e-7"
      ]
     },
     "metadata": {},
     "output_type": "display_data"
    },
    {
     "data": {
      "text/html": [
       "<html><script type=\"math/tex; mode=display\">\\newcommand{\\Bold}[1]{\\mathbf{#1}}1.33183575309251 \\times 10^{-21}</script></html>"
      ],
      "text/plain": [
       "1.33183575309251e-21"
      ]
     },
     "metadata": {},
     "output_type": "display_data"
    },
    {
     "data": {
      "text/html": [
       "<html><script type=\"math/tex; mode=display\">\\newcommand{\\Bold}[1]{\\mathbf{#1}}-7.44345213354737 \\times 10^{-36}</script></html>"
      ],
      "text/plain": [
       "-7.44345213354737e-36"
      ]
     },
     "metadata": {},
     "output_type": "display_data"
    },
    {
     "data": {
      "text/html": [
       "<html><script type=\"math/tex; mode=display\">\\newcommand{\\Bold}[1]{\\mathbf{#1}}4.32749800804274 \\times 10^{-50}</script></html>"
      ],
      "text/plain": [
       "4.32749800804274e-50"
      ]
     },
     "metadata": {},
     "output_type": "display_data"
    },
    {
     "data": {
      "text/html": [
       "<html><script type=\"math/tex; mode=display\">\\newcommand{\\Bold}[1]{\\mathbf{#1}}-2.57809586914237 \\times 10^{-64}</script></html>"
      ],
      "text/plain": [
       "-2.57809586914237e-64"
      ]
     },
     "metadata": {},
     "output_type": "display_data"
    },
    {
     "data": {
      "text/html": [
       "<html><script type=\"math/tex; mode=display\">\\newcommand{\\Bold}[1]{\\mathbf{#1}}1.56138404530087 \\times 10^{-78}</script></html>"
      ],
      "text/plain": [
       "1.56138404530087e-78"
      ]
     },
     "metadata": {},
     "output_type": "display_data"
    },
    {
     "data": {
      "text/html": [
       "<html><script type=\"math/tex; mode=display\">\\newcommand{\\Bold}[1]{\\mathbf{#1}}-9.56873587007290 \\times 10^{-93}</script></html>"
      ],
      "text/plain": [
       "-9.56873587007290e-93"
      ]
     },
     "metadata": {},
     "output_type": "display_data"
    },
    {
     "data": {
      "text/html": [
       "<html><script type=\"math/tex; mode=display\">\\newcommand{\\Bold}[1]{\\mathbf{#1}}5.91645350426887 \\times 10^{-107}</script></html>"
      ],
      "text/plain": [
       "5.91645350426887e-107"
      ]
     },
     "metadata": {},
     "output_type": "display_data"
    },
    {
     "data": {
      "text/html": [
       "<html><script type=\"math/tex; mode=display\">\\newcommand{\\Bold}[1]{\\mathbf{#1}}-3.68364200752532 \\times 10^{-121}</script></html>"
      ],
      "text/plain": [
       "-3.68364200752532e-121"
      ]
     },
     "metadata": {},
     "output_type": "display_data"
    },
    {
     "data": {
      "text/html": [
       "<html><script type=\"math/tex; mode=display\">\\newcommand{\\Bold}[1]{\\mathbf{#1}}2.30623339839519 \\times 10^{-135}</script></html>"
      ],
      "text/plain": [
       "2.30623339839519e-135"
      ]
     },
     "metadata": {},
     "output_type": "display_data"
    }
   ],
   "source": [
    "def F(m):\n",
    "    A = 545140134\n",
    "    B = 13591409\n",
    "    C = 640320\n",
    "    return ((-1)^m*(factorial(6*m))*(A*m+B))/(factorial(3*m)*(factorial(m)^3)*(C^(3*m)))\n",
    "\n",
    "for i in srange (1, 11):\n",
    "    show(F(i).n())"
   ]
  },
  {
   "cell_type": "markdown",
   "metadata": {},
   "source": [
    "### Ejercicio 6\n",
    "Chudnovsky mejorado"
   ]
  },
  {
   "cell_type": "code",
   "execution_count": null,
   "metadata": {
    "collapsed": true
   },
   "outputs": [],
   "source": []
  }
 ],
 "metadata": {
  "kernelspec": {
   "display_name": "SageMath 7.3",
   "language": "",
   "name": "sagemath"
  },
  "language_info": {
   "codemirror_mode": {
    "name": "ipython",
    "version": 2
   },
   "file_extension": ".py",
   "mimetype": "text/x-python",
   "name": "python",
   "nbconvert_exporter": "python",
   "pygments_lexer": "ipython2",
   "version": "2.7.10"
  }
 },
 "nbformat": 4,
 "nbformat_minor": 0
}
