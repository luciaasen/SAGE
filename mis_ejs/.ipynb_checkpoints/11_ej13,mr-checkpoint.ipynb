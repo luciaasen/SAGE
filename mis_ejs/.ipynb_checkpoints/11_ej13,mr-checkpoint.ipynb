{
 "cells": [
  {
   "cell_type": "code",
   "execution_count": 43,
   "metadata": {
    "collapsed": false
   },
   "outputs": [],
   "source": [
    "def pprimo(N, repeticiones):\n",
    "    p = 0\n",
    "    for i in srange(repeticiones):\n",
    "        x = randint(2, N)\n",
    "        y = randint(2, N)\n",
    "        if gcd(x, y) == 1:\n",
    "            p += (1/repeticiones).n()\n",
    "    return p\n",
    "def lim(N, repeticiones):\n",
    "    L = []\n",
    "    myrange = []\n",
    "    for i in srange(1, N+1):\n",
    "        myrange.append(10^i)\n",
    "        myrange.append(1.2 * 10^i)        \n",
    "        myrange.append(1.5 * 10^i)\n",
    "        myrange.append(1.7 * 10^i)\n",
    "    for i in myrange:\n",
    "        L.append(pprimo(i, 10000))\n",
    "    return L"
   ]
  },
  {
   "cell_type": "code",
   "execution_count": 46,
   "metadata": {
    "collapsed": false
   },
   "outputs": [],
   "source": [
    "L = lim(7, 1000)"
   ]
  },
  {
   "cell_type": "code",
   "execution_count": 45,
   "metadata": {
    "collapsed": false
   },
   "outputs": [
    {
     "name": "stdout",
     "output_type": "stream",
     "text": [
      "[0.544399999999956, 0.561599999999954, 0.585099999999952, 0.612399999999949, 0.609499999999949, 0.597699999999950, 0.604899999999950, 0.596799999999951, 0.610299999999949, 0.606899999999949, 0.607299999999949, 0.605399999999950, 0.607299999999949, 0.610499999999949, 0.600899999999950, 0.607499999999949, 0.609199999999949, 0.604199999999950, 0.605999999999950, 0.609799999999949, 0.607999999999949, 0.605599999999950, 0.604699999999950, 0.607599999999949]\n"
     ]
    }
   ],
   "source": [
    "print L"
   ]
  },
  {
   "cell_type": "markdown",
   "metadata": {},
   "source": [
    "### Miller Rabin"
   ]
  },
  {
   "cell_type": "code",
   "execution_count": 173,
   "metadata": {
    "collapsed": false
   },
   "outputs": [],
   "source": [
    "def find_sd(p):\n",
    "    p = p-1\n",
    "    s = 0\n",
    "    while p%2 == 0:\n",
    "        p = p/2\n",
    "        s += 1\n",
    "    d = p\n",
    "    return s, d\n",
    "    \n",
    "def mr(n, p):\n",
    "    testigos_necesarios = ceil(log(1/(1-p), 4))\n",
    "    print testigos_necesarios\n",
    "    s, d = find_sd(n)\n",
    "    testigos = 0\n",
    "    L = [a for a in srange(2, n) if gcd(a, n) == 1]\n",
    "    for a in L:\n",
    "        compuesto = 0\n",
    "        if power_mod(a, ZZ(d), n) == 1:\n",
    "            testigos += 1\n",
    "        else:\n",
    "            \n",
    "            condition = False\n",
    "            for r in srange(s):\n",
    "                if power_mod(a, ZZ(d*(2^r)), n) == n-1:\n",
    "                    condition = True\n",
    "                    testigos += 1\n",
    "                    break\n",
    "            else:\n",
    "                return 0\n",
    "            \n",
    "        if testigos == testigos_necesarios:\n",
    "            return testigos, 1\n",
    "        \n",
    "    return 0"
   ]
  },
  {
   "cell_type": "code",
   "execution_count": 174,
   "metadata": {
    "collapsed": false
   },
   "outputs": [
    {
     "name": "stdout",
     "output_type": "stream",
     "text": [
      "20\n"
     ]
    },
    {
     "data": {
      "text/plain": [
       "0"
      ]
     },
     "execution_count": 174,
     "metadata": {},
     "output_type": "execute_result"
    }
   ],
   "source": [
    "mr(1996, 0.999999999999)"
   ]
  },
  {
   "cell_type": "code",
   "execution_count": 164,
   "metadata": {
    "collapsed": false
   },
   "outputs": [
    {
     "data": {
      "text/plain": [
       "1"
      ]
     },
     "execution_count": 164,
     "metadata": {},
     "output_type": "execute_result"
    }
   ],
   "source": [
    "1&1"
   ]
  },
  {
   "cell_type": "code",
   "execution_count": 158,
   "metadata": {
    "collapsed": false
   },
   "outputs": [
    {
     "data": {
      "text/plain": [
       "8"
      ]
     },
     "execution_count": 158,
     "metadata": {},
     "output_type": "execute_result"
    }
   ],
   "source": [
    "power_mod(2,3,97)"
   ]
  },
  {
   "cell_type": "code",
   "execution_count": 159,
   "metadata": {
    "collapsed": true
   },
   "outputs": [],
   "source": [
    "power_mod?"
   ]
  },
  {
   "cell_type": "code",
   "execution_count": null,
   "metadata": {
    "collapsed": true
   },
   "outputs": [],
   "source": []
  }
 ],
 "metadata": {
  "kernelspec": {
   "display_name": "SageMath 7.5.1",
   "language": "",
   "name": "sagemath"
  },
  "language_info": {
   "codemirror_mode": {
    "name": "ipython",
    "version": 2
   },
   "file_extension": ".py",
   "mimetype": "text/x-python",
   "name": "python",
   "nbconvert_exporter": "python",
   "pygments_lexer": "ipython2",
   "version": "2.7.13"
  }
 },
 "nbformat": 4,
 "nbformat_minor": 0
}
