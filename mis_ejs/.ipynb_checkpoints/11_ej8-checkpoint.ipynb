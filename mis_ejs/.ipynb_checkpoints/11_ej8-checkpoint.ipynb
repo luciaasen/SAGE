{
 "cells": [
  {
   "cell_type": "markdown",
   "metadata": {},
   "source": [
    "### Ejercicio 8  \n",
    "#### Prueba: 1 dimension  \n",
    "Obtenemos una Lista donde:  \n",
    "* $L[0] = 1$ si la persona ha vuelto al origen, $L[0] = 0$ else  \n",
    "* $L[1]$ indica la distancia media de la persona al origen  \n",
    "* La $media2$ calculada despues nos da la media de todas las distancias al origen que se encuentran en L   \n",
    "\n",
    "En este experimento obtenemos que la persona siempre vuelve al origen, con una distancia media al origen muy baja (todas las veces que ejecute la celda habia algun valor de $L[i][1] > 20$, pero aun asi la media no sobrepasaba el $3$)"
   ]
  },
  {
   "cell_type": "code",
   "execution_count": 1,
   "metadata": {
    "collapsed": false
   },
   "outputs": [
    {
     "data": {
      "text/plain": [
       "([(1, 3.47619047619048),\n",
       "  (1, 2.73684210526316),\n",
       "  (1, 1.00000000000000),\n",
       "  (1, 1.00000000000000),\n",
       "  (1, 1.66666666666667),\n",
       "  (1, 1.80000000000000),\n",
       "  (1, 1.00000000000000),\n",
       "  (1, 1.00000000000000),\n",
       "  (1, 1.33333333333333),\n",
       "  (1, 1.00000000000000),\n",
       "  (1, 3.98765432098765),\n",
       "  (1, 5.57142857142857),\n",
       "  (1, 1.80000000000000),\n",
       "  (1, 1.00000000000000),\n",
       "  (1, 1.00000000000000),\n",
       "  (1, 1.33333333333333),\n",
       "  (1, 1.92307692307692),\n",
       "  (1, 1.00000000000000),\n",
       "  (1, 1.00000000000000),\n",
       "  (1, 1.40000000000000),\n",
       "  (1, 1.33333333333333),\n",
       "  (1, 3.48387096774194),\n",
       "  (1, 1.33333333333333),\n",
       "  (1, 1.80000000000000),\n",
       "  (1, 24.1213307240705),\n",
       "  (1, 1.00000000000000),\n",
       "  (1, 1.00000000000000),\n",
       "  (1, 1.42857142857143),\n",
       "  (1, 1.81818181818182),\n",
       "  (1, 3.76190476190476),\n",
       "  (1, 1.86666666666667),\n",
       "  (1, 1.00000000000000),\n",
       "  (1, 1.33333333333333),\n",
       "  (1, 1.00000000000000),\n",
       "  (1, 1.00000000000000),\n",
       "  (1, 1.00000000000000),\n",
       "  (1, 1.66666666666667),\n",
       "  (1, 1.33333333333333),\n",
       "  (1, 1.00000000000000),\n",
       "  (1, 1.33333333333333),\n",
       "  (1, 2.13333333333333),\n",
       "  (1, 2.96296296296296),\n",
       "  (1, 4.82178217821782),\n",
       "  (1, 1.00000000000000),\n",
       "  (1, 1.00000000000000),\n",
       "  (1, 1.71428571428571),\n",
       "  (1, 1.00000000000000),\n",
       "  (1, 1.00000000000000),\n",
       "  (1, 1.00000000000000),\n",
       "  (1, 3.88888888888889),\n",
       "  (1, 1.00000000000000),\n",
       "  (1, 1.40000000000000),\n",
       "  (1, 1.00000000000000),\n",
       "  (1, 1.80000000000000),\n",
       "  (1, 1.00000000000000),\n",
       "  (1, 1.00000000000000),\n",
       "  (1, 1.00000000000000),\n",
       "  (1, 2.77777777777778),\n",
       "  (1, 1.71428571428571),\n",
       "  (1, 1.80000000000000),\n",
       "  (1, 1.33333333333333),\n",
       "  (1, 4.20000000000000),\n",
       "  (1, 7.22167487684729),\n",
       "  (1, 1.00000000000000),\n",
       "  (1, 1.40000000000000),\n",
       "  (1, 8.59870550161812),\n",
       "  (1, 3.95238095238095),\n",
       "  (1, 2.00000000000000),\n",
       "  (1, 2.52631578947368),\n",
       "  (1, 1.00000000000000),\n",
       "  (1, 1.00000000000000),\n",
       "  (1, 1.00000000000000),\n",
       "  (1, 2.18181818181818),\n",
       "  (1, 11.7121951219512),\n",
       "  (1, 1.00000000000000),\n",
       "  (1, 1.00000000000000),\n",
       "  (1, 2.77777777777778),\n",
       "  (1, 1.00000000000000),\n",
       "  (1, 1.33333333333333),\n",
       "  (1, 2.38461538461538),\n",
       "  (1, 1.00000000000000),\n",
       "  (1, 1.00000000000000),\n",
       "  (1, 3.73913043478261),\n",
       "  (1, 3.48387096774194),\n",
       "  (1, 1.00000000000000),\n",
       "  (1, 1.00000000000000),\n",
       "  (1, 1.00000000000000),\n",
       "  (1, 1.00000000000000),\n",
       "  (1, 3.61702127659574),\n",
       "  (1, 1.00000000000000),\n",
       "  (1, 1.33333333333333),\n",
       "  (1, 1.00000000000000),\n",
       "  (1, 2.00000000000000),\n",
       "  (1, 21.5094577553594),\n",
       "  (1, 1.00000000000000),\n",
       "  (1, 1.00000000000000),\n",
       "  (1, 1.33333333333333),\n",
       "  (1, 1.00000000000000),\n",
       "  (1, 1.33333333333333),\n",
       "  (1, 1.00000000000000)],\n",
       " 2.33627332688132)"
      ]
     },
     "execution_count": 1,
     "metadata": {},
     "output_type": "execute_result"
    }
   ],
   "source": [
    "def paseo_1(Max):\n",
    "    distancia = 0\n",
    "    persona = 0\n",
    "    iter = 0\n",
    "    while(abs(persona) < Max):\n",
    "        x = randint(0,1)\n",
    "        if x == 1:\n",
    "            persona += 1\n",
    "        elif x == 0:\n",
    "            persona -= 1\n",
    "        if persona == 0:\n",
    "            return 1, (distancia/iter).n()\n",
    "        distancia += abs(persona)\n",
    "        iter += 1\n",
    "    return 0,(distancia/iter).n()\n",
    "\n",
    "L = [paseo_1(1000) for i in srange(100)]\n",
    "\n",
    "media2 = 0\n",
    "for i in srange(len(L)):\n",
    "    media2 += (L[i][1]/len(L)).n()\n",
    "L, media2"
   ]
  },
  {
   "cell_type": "markdown",
   "metadata": {},
   "source": [
    "#### Ejercicio: paseos tridimensionales   \n",
    "Diseñamos una funcion paseo_3(maxIter), que devuelve dos numerps: \n",
    "* El primero es $1$ si la persona volvio al origen, $0$ else\n",
    "* El segundo devuelve la distancia media recorrida por esa persona"
   ]
  },
  {
   "cell_type": "code",
   "execution_count": 1,
   "metadata": {
    "collapsed": true
   },
   "outputs": [],
   "source": [
    "def next3(persona):\n",
    "    i = randint(1, 6)\n",
    "    if i == 1:\n",
    "        persona[1] += 1\n",
    "    elif i == 2:\n",
    "        persona[1] -= 1\n",
    "    elif i == 3:\n",
    "        persona[0] += 1\n",
    "    elif i == 4:\n",
    "        persona[0] -= 1\n",
    "    elif i == 5:\n",
    "        persona[2] += 1\n",
    "    else:\n",
    "        persona[2] -= 1\n",
    "    return persona\n",
    "\n",
    "def paseo_3(maxIter):\n",
    "    persona = [0, 0, 0]\n",
    "    distancia = 0\n",
    "    iters = 0\n",
    "    while iters < maxIter:\n",
    "        persona = next3(persona)\n",
    "        distancia += (abs(vector(persona))).n()\n",
    "        if(persona == [0,0,0]):\n",
    "            return 1, (distancia/iters).n()\n",
    "        iters += 1\n",
    "    return 0, (distancia/iters).n()\n"
   ]
  },
  {
   "cell_type": "markdown",
   "metadata": {},
   "source": [
    "La funcion analisis(Max) analiza, para distintos valores de $maxIter: 10^{2}, 1.5\\times 10^{2}, 10^{3}, ...,  1.5 \\times 10^{Max - 1}$ el resultado de ejecutar $100$ veces la funcion paseo_3. Devuelve una Lista de tuplas $[x, y, z]$ para cada avalor probado de $maxIter$, donde:\n",
    "* x es la probabilidad de que la persona vuelva al origen con ese valor de $maxIter$\n",
    "* y es la distancia media recorrida por todas las personas en las $100$ ejecutiones de paseo_3, para ese valor de $maxIter$\n",
    "* z es la distancia media recorrida por las personas que volvieron al origen en las $100$ ejecutiones de paseo_3, para ese valor de $maxIter$"
   ]
  },
  {
   "cell_type": "code",
   "execution_count": 2,
   "metadata": {
    "collapsed": false
   },
   "outputs": [],
   "source": [
    " def analisis(Max):\n",
    "    # Creamos la lista con las maxIters que usaremos en el bucle: 100, 500,  1000, 5000, ...\n",
    "    myrange = []\n",
    "    for i in srange(2, Max):\n",
    "        myrange.append(10^i)\n",
    "        myrange.append(1.5*10^i)\n",
    "        \n",
    "    L = []\n",
    "    for k in myrange:\n",
    "        \n",
    "        L2 = [paseo_3(k) for i in srange(100)]        \n",
    "        print(\"Calculada la iteracion correspondiente a maxIter = %d\"%(k))\n",
    "        \n",
    "        # probabilidad de que se vuelva al inicio\n",
    "        prob = ([(L2[i][0]) for i in srange(len(L2))]).count(1)/100.n()\n",
    "        #distancia media recorrida, por todos\n",
    "        dist = sum([(L2[i][1]) for i in srange(len(L2))])/100.n()\n",
    "        #distancia media recorrida, solo por los que volvieron al origen\n",
    "        L3 = [L2[i][1] for i in srange(len(L2)) if L2[i][0] == 1]\n",
    "        dist2 = (sum(L3)/len(L3)).n()\n",
    "        L.append([prob, dist, dist2])\n",
    "    return L"
   ]
  },
  {
   "cell_type": "code",
   "execution_count": 3,
   "metadata": {
    "collapsed": false
   },
   "outputs": [
    {
     "name": "stdout",
     "output_type": "stream",
     "text": [
      "Calculada la iteracion correspondiente a maxIter = 100\n",
      "Calculada la iteracion correspondiente a maxIter = 150\n",
      "Calculada la iteracion correspondiente a maxIter = 1000\n",
      "Calculada la iteracion correspondiente a maxIter = 1500\n",
      "Calculada la iteracion correspondiente a maxIter = 10000\n",
      "Calculada la iteracion correspondiente a maxIter = 15000\n"
     ]
    },
    {
     "data": {
      "text/plain": [
       "[[0.320000000000000, 4.95065447063882, 1.38909245849500],\n",
       " [0.410000000000000, 5.36454395592149, 1.27492621947298],\n",
       " [0.310000000000000, 12.8882180272373, 1.22050637488276],\n",
       " [0.360000000000000, 15.8479571858498, 2.30582177116442],\n",
       " [0.370000000000000, 40.0770333622927, 1.94573821679687],\n",
       " [0.360000000000000, 45.4133042047214, 1.56430822197473]]"
      ]
     },
     "execution_count": 3,
     "metadata": {},
     "output_type": "execute_result"
    }
   ],
   "source": [
    "L = analisis(5)\n",
    "L"
   ]
  },
  {
   "cell_type": "markdown",
   "metadata": {},
   "source": [
    "   Despues de 10 minutos ejecutando, estos son los resultados a los que llegamos: \n",
    "   * Parece que la probabilidad de volver al origen tiende al $36%$, lo cual concuerda con el resultado teórico, $34%$ (buscado en internet)  \n",
    "   \n",
    "   * No sé si la distancia media recorrida por todas las personas nos dice algo (los numeros obtenidos no parecen tener nada en especial, solo se ve que van aumentando, lo cual tiene sentido porque al aumentar el número de iteraciones permitimos que las personas lleguen mas lejos)\n",
    "   \n",
    "   * Finalmente, la distancia media recorrida por las personas que volvieron al origen sí parece ser constante, entre $1$ y $2$ unidades"
   ]
  }
 ],
 "metadata": {
  "kernelspec": {
   "display_name": "SageMath 7.5.1",
   "language": "",
   "name": "sagemath"
  },
  "language_info": {
   "codemirror_mode": {
    "name": "ipython",
    "version": 2
   },
   "file_extension": ".py",
   "mimetype": "text/x-python",
   "name": "python",
   "nbconvert_exporter": "python",
   "pygments_lexer": "ipython2",
   "version": "2.7.13"
  }
 },
 "nbformat": 4,
 "nbformat_minor": 0
}
