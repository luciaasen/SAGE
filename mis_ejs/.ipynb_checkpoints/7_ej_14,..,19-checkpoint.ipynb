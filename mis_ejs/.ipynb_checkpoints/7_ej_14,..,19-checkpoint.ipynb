{
 "cells": [
  {
   "cell_type": "markdown",
   "metadata": {},
   "source": [
    "### Ejercicio 14\n",
    "Bisección"
   ]
  },
  {
   "cell_type": "code",
   "execution_count": null,
   "metadata": {
    "collapsed": true
   },
   "outputs": [],
   "source": [
    "def envoltorio_biseccion(f, a, b, E):\n",
    "    if f(a) == 0:\n",
    "        return (a, a)\n",
    "    if f(b) == 0:\n",
    "        return (b, b)\n",
    "    if f(a)*f(b) > 0:\n",
    "        return -1\n",
    "    return biseccion (f, a, b, E)\n",
    "\n",
    "def biseccion(f, a, b, E):\n",
    "    if abs(f(a) - f(b)) < E:\n",
    "        return (a, b)\n",
    "    else:\n",
    "        medio = (a + b)/2\n",
    "        if f(medio) == 0:\n",
    "            return (medio, medio)\n",
    "        elif f(a) * f(medio) < 0:\n",
    "            return biseccion(f, a, medio, E)\n",
    "        else:\n",
    "            return biseccion(f, medio, b, E)\n",
    "\n",
    "            \n"
   ]
  }
 ],
 "metadata": {
  "kernelspec": {
   "display_name": "SageMath 7.3",
   "language": "",
   "name": "sagemath"
  },
  "language_info": {
   "codemirror_mode": {
    "name": "ipython",
    "version": 2
   },
   "file_extension": ".py",
   "mimetype": "text/x-python",
   "name": "python",
   "nbconvert_exporter": "python",
   "pygments_lexer": "ipython2",
   "version": "2.7.10"
  }
 },
 "nbformat": 4,
 "nbformat_minor": 0
}
