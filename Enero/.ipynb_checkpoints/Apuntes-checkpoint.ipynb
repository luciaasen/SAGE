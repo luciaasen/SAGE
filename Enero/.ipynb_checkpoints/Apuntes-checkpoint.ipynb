{
 "cells": [
  {
   "cell_type": "markdown",
   "metadata": {},
   "source": [
    "# Criptografía\n",
    "\n",
    "\n",
    "$M \\times K \\xrightarrow{\\Phi \\times 1\\; codificar} N \\times K \\xrightarrow{encript} NC \\xrightarrow{\\phi\\; nums-caract} MC$\n",
    "\n",
    "$\\Phi$ codifica caracteres a numeros, no encripta\n",
    "\n",
    "Por ejemplo, encripta ciert matriz y desencripta su inversa\n",
    "\n",
    "#### Métodos desencriptación:\n",
    "* Fuerza bruta\n",
    "* Estadística (frecuencia de letras)\n",
    "\n",
    "#### Encriptación (cronológico)\n",
    "* **César  **\n",
    "Quitas espacios, puntos... 26 letras. A cada letra, int%26. Codificas.  \n",
    "Para encriptar, sumas $k \\leq 26$. Problema: espacio de claves pequeño, facil romper\n",
    "* **Cifrado de permutación   **     \n",
    "Aumenta espacio de claves dándose cuenta de que un numero y su encriptacion es solo una biyeccion de $\\mathbb{Z}_{26} \\longrightarrow \\mathbb{Z}_{26}$  \n",
    "Como hay $26!$ biyecciones, encriptas con una biyeccion, no fuerza bruta pero si por estadística\n",
    "\n",
    "* **Cifrado de permutación   **  \n",
    "Eliges clave = palabra + usar cifrado cesar    \n",
    "ENUNLUGARDELAMANCHA     \n",
    "CIRUELACIRUELACIRUE    \n",
    "Encriptas lo de arriba mediante César usando como clave el numero correspondiente a la letra de la clave que tiene debajo (La primera E se encripta en César con  2 (C = 2), pero la segunda E se encripta con la clave correspondiente a la codificación de U.\n",
    "Muy difícil si no sabes longitud de la clave.\n",
    "\n",
    "Vemos Hoja 81, funciones utiles:\n",
    "join devuelve string asociada a lista (from string import * )   \n",
    "Forma de quitar espacios y mayusculear (capitalise)\n",
    "Hojas 82, 83 para Cesar y Vigenere"
   ]
  },
  {
   "cell_type": "code",
   "execution_count": null,
   "metadata": {
    "collapsed": true
   },
   "outputs": [],
   "source": []
  }
 ],
 "metadata": {
  "kernelspec": {
   "display_name": "SageMath 7.3",
   "language": "",
   "name": "sagemath"
  },
  "language_info": {
   "codemirror_mode": {
    "name": "ipython",
    "version": 2
   },
   "file_extension": ".py",
   "mimetype": "text/x-python",
   "name": "python",
   "nbconvert_exporter": "python",
   "pygments_lexer": "ipython2",
   "version": "2.7.10"
  }
 },
 "nbformat": 4,
 "nbformat_minor": 0
}
