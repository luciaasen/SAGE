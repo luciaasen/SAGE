{
 "cells": [
  {
   "cell_type": "markdown",
   "metadata": {},
   "source": [
    "1) Antes que nada, lee cuidadosamente estas instrucciones y las que aparecen en la hoja con la contraseña. .\n",
    "\n",
    "2) Cambia el nombre de este archivo sustituyendo \"nombre.apellido\" por los tuyos, tal como aparecen en tu dirección de correo electrónico de la UAM.\n",
    "\n",
    "3) Este archivo debe quedar en la carpeta \"ENTREGA...\" que está en el escritorio de tu cuenta de examen. Lo mejor es que esté en esa carpeta desde el comienzo del examen.\n",
    "\n",
    "4) El examen resuelto debe quedar en este único archivo. No se puede usar un archivo para cada pregunta.\n",
    "\n",
    "5) Recuerda que hay que deshabilitar el salvapantallas al comenzar el examen, tal como está indicado en la hoja con la contraseña. \n",
    "\n",
    "\n",
    "CALIFICACIÓN:\n"
   ]
  },
  {
   "cell_type": "code",
   "execution_count": 2,
   "metadata": {
    "collapsed": false
   },
   "outputs": [
    {
     "data": {
      "text/plain": [
       "5"
      ]
     },
     "execution_count": 2,
     "metadata": {},
     "output_type": "execute_result"
    }
   ],
   "source": [
    "2+1+2"
   ]
  },
  {
   "cell_type": "markdown",
   "metadata": {
    "collapsed": true
   },
   "source": [
    "## SI ESTE CUADERNO NO FUNCIONA, PRUEBA EL OTRO, POR FAVOR. SE LLAMA IGUAL PERO ACABA EN AUX"
   ]
  },
  {
   "cell_type": "markdown",
   "metadata": {},
   "source": [
    "COMENTARIOS:\n",
    "\n",
    "1)"
   ]
  },
  {
   "cell_type": "markdown",
   "metadata": {},
   "source": [
    "## Ejercicio 1\n",
    "\n",
    "(3 puntos) Podemos estimar el valor de $\\alpha(x):=\\sqrt{1+x}$ como $\\beta(x):=1+(x/2)$ cuando $x$ es,  en valor absoluto,  suficientement próximo a cero. Consideramos que la estimación *es aceptable* cuando  el error relativo $$E(x):=\\frac{abs(\\alpha(x)-\\beta(x))}{\\alpha(x)}$$ que cometemos es menor que $0.01$. \n",
    "\n",
    "1) Determina, experimentalmente,  una cota $\\vert x\\vert < A$ tal que la estimación es aceptable para los $x$ que la cumplen, y deja de serlo para $\\vert x\\vert \\ge A$. \n",
    "\n",
    "2) ¿Qué podemos hacer para mejorar la estimación? Postula una nueva estimación $\\beta_1(x)$ y demuestra que con ella se obtienen resultados bastante más precisos."
   ]
  },
  {
   "cell_type": "code",
   "execution_count": 1,
   "metadata": {
    "collapsed": false
   },
   "outputs": [
    {
     "data": {
      "text/html": [
       "<html><script type=\"math/tex; mode=display\">\\newcommand{\\Bold}[1]{\\mathbf{#1}}\\left(\\frac{1}{3}, 0.01041\\right)</script></html>"
      ],
      "text/plain": [
       "(1/3, 0.01041)"
      ]
     },
     "metadata": {},
     "output_type": "display_data"
    }
   ],
   "source": [
    "'''Definimos funciones alfa, beta y una funcion que me devuelva el error relativo cometido'''\n",
    "def a(x):\n",
    "    return sqrt(1+x)\n",
    "\n",
    "def b(x):\n",
    "    return 1 + (x/2)\n",
    "\n",
    "def relativo(x):\n",
    "    return (abs(a(x) - b(x))/a(x)).n(prec = 15)\n",
    "\n",
    "'''Buscamos la cota a partir de una lista de la forma 1/n'''\n",
    "L = []\n",
    "for i in srange(1, 10):\n",
    "    L.append(1/i)   \n",
    "L.reverse()\n",
    "\n",
    "for item in L:\n",
    "    if relativo(item) >= 0.01:\n",
    "        show((item, relativo(item)))\n",
    "        break\n",
    "        \n",
    "    \n",
    "\n"
   ]
  },
  {
   "cell_type": "markdown",
   "metadata": {},
   "source": [
    "Vemos que en x = 1/3 el error ya no es tolerable, asi que la cota se encuentra entre 1/3 y 1/4.\n",
    "\n",
    "Intentamos comprobar donde de manera mas precisa, teniendo en cuenta que 1/3 y 1/4 son dos fracciones separadas entre si por 100 \"trozos\" de tamaño 1/1200"
   ]
  },
  {
   "cell_type": "code",
   "execution_count": 13,
   "metadata": {
    "collapsed": false
   },
   "outputs": [
    {
     "data": {
      "text/html": [
       "<html><script type=\"math/tex; mode=display\">\\newcommand{\\Bold}[1]{\\mathbf{#1}}\\left(\\frac{49}{150}, 0.01002\\right)</script></html>"
      ],
      "text/plain": [
       "(49/150, 0.01002)"
      ]
     },
     "metadata": {},
     "output_type": "display_data"
    }
   ],
   "source": [
    "L = []\n",
    "for i in srange(0, 110):\n",
    "    L.append((1/3) - (i/1200))\n",
    "L.reverse()\n",
    "\n",
    "for item in L:\n",
    "    if relativo(item) >= 0.01:\n",
    "        show((item, relativo(item)))\n",
    "        break"
   ]
  },
  {
   "cell_type": "markdown",
   "metadata": {},
   "source": [
    "Al disminuir el tamaño dfe las particiones encontramos una nuea cota, que dejaremos como definitiva: 49/150\n",
    "\n",
    "¿Una aproximacion mejor para $\\alpha (x)$? Probamos con $\\beta _1(x) = 1 + 0.45x $"
   ]
  },
  {
   "cell_type": "code",
   "execution_count": 14,
   "metadata": {
    "collapsed": false
   },
   "outputs": [
    {
     "data": {
      "text/html": [
       "<html><script type=\"math/tex; mode=display\">\\newcommand{\\Bold}[1]{\\mathbf{#1}}\\left(1, 0.02533\\right)</script></html>"
      ],
      "text/plain": [
       "(1, 0.02533)"
      ]
     },
     "metadata": {},
     "output_type": "display_data"
    }
   ],
   "source": [
    "def b1(x):\n",
    "    return (1 + 0.45 * x)\n",
    "\n",
    "def relativo1(x):\n",
    "    return (abs(a(x) - b1(x))/a(x)).n(prec = 15)\n",
    "\n",
    "L = []\n",
    "for i in srange(1, 10):\n",
    "    L.append(1/i)   \n",
    "L.reverse()\n",
    "\n",
    "for item in L:\n",
    "    if relativo1(item) >= 0.01:\n",
    "        show((item, relativo1(item)))\n",
    "        break\n",
    "        "
   ]
  },
  {
   "cell_type": "markdown",
   "metadata": {},
   "source": [
    "Con esta nueva pendiente para la aproximación, obtenemos que el error relativo obtenido deja de ser tolerable en x = 1, no en x = 1/3, como antes"
   ]
  },
  {
   "cell_type": "code",
   "execution_count": null,
   "metadata": {
    "collapsed": true
   },
   "outputs": [],
   "source": []
  },
  {
   "cell_type": "markdown",
   "metadata": {},
   "source": [
    "## Ejercicio 2\n",
    "\n",
    "(3 puntos) John Napier publicó su invención de los logaritmos en 1614, mucho antes de la invención del cálculo diferencial. El punto esencial para que los logaritmos fueran útiles era la existencia de *tablas de logaritmos* en las que uno encontraba los logaritmos de los factores, que sumaba a mano, y volvía a usar para encontrar el número cuyo logaritmo era la suma obtenida, es decir,  el producto de los números de partida. \n",
    "Henry Briggs colaboró con Napier para producir las primeras tablas de logaritmos mediante el siguiente procedimiento:\n",
    "\n",
    "1) Queremos calcular el logaritmo de un entero $n>1$. Calculamos $n^{1/2^k}$ para $k=1,2,3,\\dots$ hasta que el resultado difiera *muy poco* de $1$. Esto es lo mismo que iterar la extracción de raíces cuadradas hasta llegar casi a $1$. Escribimos \n",
    "$$n^{1/2^k}=1+x.$$\n",
    "\n",
    "2) Ahora tomamos logaritmos para obtener \n",
    "$$log(n)=2^klog(1+x).$$\n",
    "\n",
    "3) Finalmente, Briggs observó que para $x$ suficientemente pequeño en valor absoluto, podía sustituir $log(1+x)$ por $x$, y quedaba $log(n)$ aproximadamente igual a  $2^kx.$ \n",
    "\n",
    "Es claro que lo que necesitamos es saber *cómo de pequeño tiene que ser $x$ para obtener un número prefijado $k$ de cifras decimales exactas del logaritmo de $n$.*\n",
    "\n",
    "A) Define una función $buscar(n,k,precis)$ que debe efectuar el procedimiento de Briggs hasta que la estimación obtenida tenga el número $k$ de cifras correctas de $log(n)$, y en ese momento debe devolver $x$. La precisión arbitraria en los cálculos, determinada por el parámetro *precis* hace falta porque sin ella un cierto bucle $while$ puede hacerse infinito cuando $n$ o $k$ son *grandes*. \n",
    "\n",
    "B) Experimenta con la función del primer apartado y, como consecuencia,  enuncia y comprueba la regla que indica cómo de pequeño tiene que ser $x$ para obtener $k$ cifras correctas del logaritmo de $n$."
   ]
  },
  {
   "cell_type": "code",
   "execution_count": 4,
   "metadata": {
    "collapsed": false
   },
   "outputs": [],
   "source": [
    "'''briggs hace l aproximacion log(n) = 2^k * x,\n",
    "donde x = n^(1/2^k)- 1'''\n",
    "\n",
    "'''La funcion briggs calcula a aproximacion y devuelve una tupla con los valores\n",
    "(aproximacion, x)'''\n",
    "def briggs(n, k):\n",
    "    x = n^((1/2)^k)- 1\n",
    "    b = 2^k * x\n",
    "    return b, x\n",
    "    \n",
    "def buscar(n, k, precis):\n",
    "    l = (log(n)).n(digits = k)\n",
    "    \n",
    "    i = 0\n",
    "    while i < precis:\n",
    "        b = briggs(n, i)\n",
    "        if b[0].n(digits = k) == l:\n",
    "            return b[1]\n",
    "        i += 1\n",
    "    \n",
    "    return -1\n",
    "\n",
    "\n"
   ]
  },
  {
   "cell_type": "markdown",
   "metadata": {},
   "source": [
    "Experimentamos con la fucnion y el log(2)\n",
    "\n",
    "He tenido que escribir mal el algoritmo porque en ningun caso la funcion buscar devuelve un valor valido para x, sino q siempre devuelve -1 (que indica que nunca se llego a la precision necesaria en el while)"
   ]
  },
  {
   "cell_type": "code",
   "execution_count": 5,
   "metadata": {
    "collapsed": false
   },
   "outputs": [
    {
     "data": {
      "image/png": "[encoded data removed]",
      "text/plain": [
       "Graphics object consisting of 1 graphics primitive"
      ]
     },
     "metadata": {},
     "output_type": "display_data"
    }
   ],
   "source": [
    "L = []\n",
    "for i in srange(5, 10):\n",
    "    L.append((i, buscar(2, i, 1000)))\n",
    "\n",
    "show(line2d(L))"
   ]
  },
  {
   "cell_type": "markdown",
   "metadata": {},
   "source": [
    "## Ejercicio 3\n",
    "\n",
    "(4 puntos) El método BBP que permite calcular una cifra determinada de $\\pi$, la $n$-ésima, sin calcular las anteriores se puede aplicar a algunas otras constantes. Por ejemplo, para $log(2)$ se puede usar la serie\n",
    "$$log(2)=\\sum_{k=1}^{\\infty}\\frac{1}{2^kk}.$$\n",
    "\n",
    "1) En la primera celda se reproduce el código BPP para $\\pi$, y lo primero que debes hacer es modificarlo para que funcione para $log(2)$ mediante la serie indicada. La última función, la que devuelve cifras binarias de $log(2)$, debe llamarse $cifra\\_log2(n)$. \n",
    "\n",
    "2) Modifica el código del apartado 1) para haga todos los cálculos con una precisión (en bits) arbitraria, es decir, la nueva función debe llamarse $cifra\\_log2(n,precis)$.\n",
    "\n",
    "3) Define una función $compara(C1,C2)$ que, dadas dos cadenas de caracteres,  cuente, hasta la primera discrepancia,  el número de caracteres de $C1$ que ocupan el mismo lugar en $C2$. Es decir, si el primer caracter es diferente debe devolver cero, si el primero es igual pero el segundo es diferente debe devolver uno, etc.\n",
    "\n",
    "4) Jugando con la función  $cifra\\_log2(n,precis)$ se observa que cuanto mayor es la precisión más cifras correctas de $log(2)$, a partir de la $n$-ésima,  devuelve, y que fijada la precisión el número de cifras correctas no depende mucho de $n$ y es del orden de la precisión. \n",
    "La parte final del ejercicio consiste en comprobar sistemáticamente  estas afirmaciones, para lo que debemos comparar  cadenas $C1$ generadas por $cifra\\_log2(n,precis)$ con la parte relevante de  cadenas $C2$  $$(log(2).n(prec=precis)).str(base=2,no\\_sci=2)$$\n",
    "que nos dan las cifras correctas de $log(2).$ El parámetro $no\\_sci=2$ sirve para que no se devuelva el resultado en notación científica estándar (i.e. parte entera de un único dígito, decimales,  y exponente de una potencia de $10$).\n",
    "\n"
   ]
  },
  {
   "cell_type": "code",
   "execution_count": 1,
   "metadata": {
    "collapsed": true
   },
   "outputs": [],
   "source": [
    "def F0(j,n):\n",
    "    S =RR(0.0)\n",
    "    k =0 \n",
    "    while k <= n:\n",
    "        r = 8*k+j\n",
    "        S += RR(power_mod(16,n-k,r)/r)-floor(RR(power_mod(16,n-k,r)/r))\n",
    "        k += 1\n",
    "    return RR(S)\n",
    "\n",
    "def F1(j,n):\n",
    "    S =RR(0.0)\n",
    "    k =n+1\n",
    "    while 1:\n",
    "        r = 8*k+j\n",
    "        nS = S+ RR(16^(n-k)/r)\n",
    "        if S == nS:\n",
    "            break\n",
    "        else:\n",
    "            S = nS\n",
    "        k += 1\n",
    "    return RR(S)\n",
    "\n",
    "def S(j,n):\n",
    "    return RR(F0(j,n)+F1(j,n))\n",
    "\n",
    "def cifra_pi(n):\n",
    "    n -= 1\n",
    "    x = (4*RR(S(1,n))-2*RR(S(4,n))-RR(S(5,n))-RR(S(6,n)))\n",
    "    return (x-floor(x)).str(base=16,no_sci=2)"
   ]
  },
  {
   "cell_type": "markdown",
   "metadata": {
    "collapsed": true
   },
   "source": [
    "\n",
    "Cifras de log(2)\n"
   ]
  },
  {
   "cell_type": "code",
   "execution_count": 2,
   "metadata": {
    "collapsed": true
   },
   "outputs": [],
   "source": [
    "def positivas(n):\n",
    "    serie = RR(0.0)\n",
    "    for k in srange(1, n+1):\n",
    "        sumando = RR(power_mod(2, n-k, k)/k) - floor(RR(power_mod(2, n-k, k)/k))\n",
    "        serie += sumando\n",
    "        k += 1\n",
    "    return serie\n",
    "\n",
    "def negativas(n):\n",
    "    serie = RR(0.0)\n",
    "    k = n + 1\n",
    "    while 1:\n",
    "        buff = serie +RR( 2^(n-k)/k)\n",
    "        if buff == serie:\n",
    "            break\n",
    "        serie = buff\n",
    "        k += 1\n",
    "    return serie\n",
    "\n",
    "def cifra_log2(n):\n",
    "    x = negativas(n) + positivas(n)\n",
    "    return (x - floor(x)).str(base = 2)"
   ]
  },
  {
   "cell_type": "markdown",
   "metadata": {},
   "source": [
    "Comprobamos si funciona pidiendo el resultado para n = 0, 1:\n",
    "Debe darnos en primer lugar los decimales desde el primero, y en segundo lugar desde el segundo"
   ]
  },
  {
   "cell_type": "code",
   "execution_count": 3,
   "metadata": {
    "collapsed": false
   },
   "outputs": [
    {
     "data": {
      "text/html": [
       "<html><script type=\"math/tex; mode=display\">\\newcommand{\\Bold}[1]{\\mathbf{#1}}0.10110001011100100001011111110111110100011100111101111</script></html>"
      ],
      "text/plain": [
       "'0.10110001011100100001011111110111110100011100111101111'"
      ]
     },
     "metadata": {},
     "output_type": "display_data"
    },
    {
     "data": {
      "text/html": [
       "<html><script type=\"math/tex; mode=display\">\\newcommand{\\Bold}[1]{\\mathbf{#1}}0.10110001011100100001011111110111110100011100111101101</script></html>"
      ],
      "text/plain": [
       "'0.10110001011100100001011111110111110100011100111101101'"
      ]
     },
     "metadata": {},
     "output_type": "display_data"
    },
    {
     "data": {
      "text/html": [
       "<html><script type=\"math/tex; mode=display\">\\newcommand{\\Bold}[1]{\\mathbf{#1}}0.011000101110010000101111111011111010001110011110111011</script></html>"
      ],
      "text/plain": [
       "'0.011000101110010000101111111011111010001110011110111011'"
      ]
     },
     "metadata": {},
     "output_type": "display_data"
    }
   ],
   "source": [
    "x = log(2).n()\n",
    "show(x.str(base =2))\n",
    "\n",
    "show(cifra_log2(0))\n",
    "show(cifra_log2(1))"
   ]
  },
  {
   "cell_type": "code",
   "execution_count": 4,
   "metadata": {
    "collapsed": true
   },
   "outputs": [],
   "source": [
    "'''Modificamos para que realice calculos con prec = precis'''\n",
    "\n",
    "def positivas_2(n, precis):\n",
    "    R = RealField(prec=precis)\n",
    "    serie = R(0)\n",
    "    \n",
    "    for k in srange(1, n+1):\n",
    "        sumando = R(power_mod(2, n-k, k)/k) - floor(R(power_mod(2, n-k, k)/k))\n",
    "        serie += sumando\n",
    "        k += 1\n",
    "    return serie\n",
    "\n",
    "def negativas_2(n, precis):\n",
    "    R = RealField(prec=precis)\n",
    "    serie = R(0)\n",
    "    \n",
    "    k = n + 1\n",
    "    while 1:\n",
    "        buff = serie +R( 2^(n-k)/k)\n",
    "        if buff == serie:\n",
    "            break\n",
    "        serie = buff\n",
    "        k += 1\n",
    "    return serie\n",
    "\n",
    "def cifra_log2_2(n, precis):\n",
    "    x = negativas_2(n, precis) + positivas_2(n, precis)\n",
    "    return (x - floor(x)).str(base = 2)"
   ]
  },
  {
   "cell_type": "code",
   "execution_count": 5,
   "metadata": {
    "collapsed": false
   },
   "outputs": [],
   "source": [
    "def compara(c1, c2):\n",
    "    tope = min(len(c1), len(c2))\n",
    "    \n",
    "    for i in srange(0, tope):\n",
    "        if(c1[i] != c2[i]):\n",
    "            return i\n",
    "    return -1"
   ]
  },
  {
   "cell_type": "code",
   "execution_count": 6,
   "metadata": {
    "collapsed": false
   },
   "outputs": [
    {
     "ename": "NameError",
     "evalue": "name 'a' is not defined",
     "output_type": "error",
     "traceback": [
      "\u001b[0;31m---------------------------------------------------------------------------\u001b[0m",
      "\u001b[0;31mNameError\u001b[0m                                 Traceback (most recent call last)",
      "\u001b[0;32m<ipython-input-6-1e2e087cbb12>\u001b[0m in \u001b[0;36m<module>\u001b[0;34m()\u001b[0m\n\u001b[1;32m      8\u001b[0m     \u001b[0mL\u001b[0m\u001b[0;34m.\u001b[0m\u001b[0mappend\u001b[0m\u001b[0;34m(\u001b[0m\u001b[0mi\u001b[0m\u001b[0;34m)\u001b[0m\u001b[0;34m\u001b[0m\u001b[0m\n\u001b[1;32m      9\u001b[0m \u001b[0;32mfor\u001b[0m \u001b[0mprecis\u001b[0m \u001b[0;32min\u001b[0m \u001b[0mL\u001b[0m\u001b[0;34m:\u001b[0m\u001b[0;34m\u001b[0m\u001b[0m\n\u001b[0;32m---> 10\u001b[0;31m     \u001b[0mL2\u001b[0m\u001b[0;34m.\u001b[0m\u001b[0mappend\u001b[0m\u001b[0;34m(\u001b[0m\u001b[0;34m(\u001b[0m\u001b[0mprecis\u001b[0m\u001b[0;34m,\u001b[0m \u001b[0mcompara\u001b[0m\u001b[0;34m(\u001b[0m\u001b[0ma\u001b[0m\u001b[0;34m,\u001b[0m \u001b[0mcifra_log2_2\u001b[0m\u001b[0;34m(\u001b[0m\u001b[0mn\u001b[0m\u001b[0;34m,\u001b[0m \u001b[0mprecis\u001b[0m\u001b[0;34m)\u001b[0m\u001b[0;34m)\u001b[0m\u001b[0;34m)\u001b[0m\u001b[0;34m)\u001b[0m\u001b[0;34m\u001b[0m\u001b[0m\n\u001b[0m\u001b[1;32m     11\u001b[0m \u001b[0;34m\u001b[0m\u001b[0m\n\u001b[1;32m     12\u001b[0m \u001b[0mshow\u001b[0m\u001b[0;34m(\u001b[0m\u001b[0mL2\u001b[0m\u001b[0;34m)\u001b[0m\u001b[0;34m\u001b[0m\u001b[0m\n",
      "\u001b[0;31mNameError\u001b[0m: name 'a' is not defined"
     ]
    }
   ],
   "source": [
    "'''Parte final del ejercicio'''\n",
    "\n",
    "'''A mayor precis, mayor numero de cifras correctas a partir de n: comprobamos'''\n",
    "n = 0\n",
    "L = []\n",
    "L2 = []\n",
    "for i in srange(10, 151, 5):\n",
    "    L.append(i)\n",
    "for precis in L:\n",
    "    L2.append((precis, compara(a, cifra_log2_2(n, precis))))\n",
    " \n",
    "show(L2)            \n",
    "             \n"
   ]
  },
  {
   "cell_type": "markdown",
   "metadata": {},
   "source": [
    "Como -1 es el valor que devuelve la funcion compara en caso de no haber encontrado diferencias, y como hemos comprobado que solo devuelve un valor != -1 para los valores de precis < 60, llegamos a la conlcusión de que incrementar precis obtiene mas cifras exactas de log(2)\n",
    "\n",
    "Ademas, en los primeros elementos de la lista anterior se observa que, como dice el enunciado, el numero de cifras correctas es mas o menos igual a la precision.\n"
   ]
  },
  {
   "cell_type": "code",
   "execution_count": 7,
   "metadata": {
    "collapsed": false
   },
   "outputs": [
    {
     "data": {
      "text/html": [
       "<html><script type=\"math/tex; mode=display\">\\newcommand{\\Bold}[1]{\\mathbf{#1}}0.10110001011100100001011111110111110100011100111101111</script></html>"
      ],
      "text/plain": [
       "'0.10110001011100100001011111110111110100011100111101111'"
      ]
     },
     "metadata": {},
     "output_type": "display_data"
    },
    {
     "data": {
      "text/html": [
       "<html><script type=\"math/tex; mode=display\">\\newcommand{\\Bold}[1]{\\mathbf{#1}}0.10110001011100100001011111110111110100011100111101101</script></html>"
      ],
      "text/plain": [
       "'0.10110001011100100001011111110111110100011100111101101'"
      ]
     },
     "metadata": {},
     "output_type": "display_data"
    },
    {
     "data": {
      "text/html": [
       "<html><script type=\"math/tex; mode=display\">\\newcommand{\\Bold}[1]{\\mathbf{#1}}10110001011100100001011111110111110100011100111101111</script></html>"
      ],
      "text/plain": [
       "'10110001011100100001011111110111110100011100111101111'"
      ]
     },
     "metadata": {},
     "output_type": "display_data"
    }
   ],
   "source": [
    "x = log(2).n()\n",
    "a = x.str(base =2)\n",
    "\n",
    "show(a)\n",
    "show(cifra_log2(0))\n",
    "a2 = a[2:]\n",
    "show(a2)\n"
   ]
  },
  {
   "cell_type": "code",
   "execution_count": null,
   "metadata": {
    "collapsed": true
   },
   "outputs": [],
   "source": []
  }
 ],
 "metadata": {
  "kernelspec": {
   "display_name": "SageMath 7.5.1",
   "language": "",
   "name": "sagemath"
  },
  "language_info": {
   "codemirror_mode": {
    "name": "ipython",
    "version": 2
   },
   "file_extension": ".py",
   "mimetype": "text/x-python",
   "name": "python",
   "nbconvert_exporter": "python",
   "pygments_lexer": "ipython2",
   "version": "2.7.13"
  }
 },
 "nbformat": 4,
 "nbformat_minor": 0
}
